{
 "cells": [
  {
   "cell_type": "markdown",
   "id": "b77152de",
   "metadata": {},
   "source": [
    "# 03 Checkpoint: Writing Functions\n",
    "\n",
    "### Problem Statement\n",
    "Many vehicle owners record the fuel efficiency of their vehicles as a way to track the health of the vehicle. If the fuel efficiency of a vehicle suddenly drops, there is probably something wrong with the engine or drive train of the vehicle. In the United States, fuel efficiency for gasoline powered vehicles is calculated as miles per gallon. In most other countries, fuel efficiency is calculated as liters per 100 kilometers.\n",
    "\n",
    "The formula for computing fuel efficiency in miles per gallon is the following:\n",
    "\n",
    "mpg = (end − start)/gallons\n",
    "\n",
    "where start and end are both odometer values in miles and gallons is a fuel amount in U.S. gallons.\n",
    "\n",
    "The formula for converting miles per gallon to liters per 100 kilometers is the following:\n",
    "\n",
    "lp100k = 235.215/mpg\n",
    "\n",
    "### Assignment\n",
    "Write a Python program that asks the user for three numbers:\n",
    "\n",
    "* A starting odometer value in miles\n",
    "* An ending odometer value in miles\n",
    "* An amount of fuel in gallons\n",
    "\n",
    "Your program must calculate and print fuel efficiency in both miles per gallon and liters per 100 kilometers. Your program must have three functions named as follows:\n",
    "\n",
    "* main\n",
    "* miles_per_gallon\n",
    "* lp100k_from_mpg\n",
    "\n",
    "All user input and printing must be in the main function. In other words, the miles_per_gallon and lp100k_from_mpg functions must not call the the input or print functions.\n",
    "\n",
    "#### Name Program - fuel_usage.py"
   ]
  },
  {
   "cell_type": "code",
   "execution_count": 7,
   "id": "f9533c77",
   "metadata": {},
   "outputs": [
    {
     "name": "stdout",
     "output_type": "stream",
     "text": [
      "What is your starting odmeter reading? 30462\n",
      "What is your endinging odmeter reading? 30810\n",
      "How many gallons were used? 11.2\n",
      "Miles per gallon = 31.07, liters per 100 kilometers = 7.57\n"
     ]
    }
   ],
   "source": [
    "def main():\n",
    "    #####################\n",
    "    ## TESTING ONLY\n",
    "    #start_miles = 30462\n",
    "    #end_miles = 30810\n",
    "    #gallons_used = 11.2\n",
    "    #####################\n",
    "    \n",
    "    # Get an odometer value in U.S. miles from the user.\n",
    "    start_miles = float(input(\"What is your starting odmeter reading? \"))\n",
    "    # Get another odometer value in U.S. miles from the user.\n",
    "    end_miles = float(input(\"What is your endinging odmeter reading? \"))\n",
    "    # Get a fuel amount in U.S. gallons from the user.\n",
    "    gallons_used = float(input(\"How many gallons were used? \"))\n",
    "    # Call the miles_per_gallon function and store\n",
    "    # the result in a variable named mpg.\n",
    "    mpg = miles_per_gallon(start_miles, end_miles, gallons_used)\n",
    "\n",
    "    # Call the lp100k_from_mpg function to convert the\n",
    "    # miles per gallon to liters per 100 kilometers and\n",
    "    # store the result in a variable named lp100k.\n",
    "    lp100k = lp100k_from_mpg(mpg)\n",
    "    \n",
    "    # Display the results for the user to see\n",
    "    print(f'''\n",
    "    Miles per gallon = {mpg:,.2f}\n",
    "    Liters per 100 km = {lp100k:,.2f}''')\n",
    "    \n",
    "\n",
    "\n",
    "def miles_per_gallon(start_miles, end_miles, gallons_used):\n",
    "    \"\"\"Compute and return the average number of miles\n",
    "    that a vehicle traveled per gallon of fuel.\n",
    "\n",
    "    Parameters\n",
    "        start_miles: An odometer value in miles.\n",
    "        end_miles: Another odometer value in miles.\n",
    "        amount_gallons: A fuel amount in U.S. gallons.\n",
    "    Return: Fuel efficiency in miles per gallon.\n",
    "    \"\"\"\n",
    "    mpg = (end_miles - start_miles)/gallons_used\n",
    "    \n",
    "    return mpg\n",
    "\n",
    "\n",
    "def lp100k_from_mpg(mpg):\n",
    "    \"\"\"Convert miles per gallon to liters per 100\n",
    "    kilometers and return the converted value.\n",
    "\n",
    "    Parameter mpg: A value in miles per gallon\n",
    "    Return: The converted value in liters per 100km.\n",
    "    \"\"\"\n",
    "    lp100k = 235.215/mpg\n",
    "    return lp100k\n",
    "\n",
    "\n",
    "# Call the main function so that\n",
    "# this program will start executing.\n",
    "main()"
   ]
  },
  {
   "cell_type": "code",
   "execution_count": null,
   "id": "f0708ea1",
   "metadata": {},
   "outputs": [],
   "source": []
  },
  {
   "cell_type": "code",
   "execution_count": null,
   "id": "a409af3c",
   "metadata": {},
   "outputs": [],
   "source": []
  }
 ],
 "metadata": {
  "kernelspec": {
   "display_name": "Python 3 (ipykernel)",
   "language": "python",
   "name": "python3"
  },
  "language_info": {
   "codemirror_mode": {
    "name": "ipython",
    "version": 3
   },
   "file_extension": ".py",
   "mimetype": "text/x-python",
   "name": "python",
   "nbconvert_exporter": "python",
   "pygments_lexer": "ipython3",
   "version": "3.9.7"
  }
 },
 "nbformat": 4,
 "nbformat_minor": 5
}
