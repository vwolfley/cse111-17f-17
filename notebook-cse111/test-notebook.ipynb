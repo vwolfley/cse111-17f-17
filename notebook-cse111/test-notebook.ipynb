{
 "cells": [
  {
   "cell_type": "code",
   "execution_count": 2,
   "metadata": {},
   "outputs": [
    {
     "name": "stdout",
     "output_type": "stream",
     "text": [
      "a: 1 b: 2\n",
      "a: 3 b: 4\n"
     ]
    }
   ],
   "source": [
    "list_of_tuples = [(1,2), (3,4)]\n",
    "\n",
    "for a, b in list_of_tuples:\n",
    "  print(\"a:\", a, \"b:\", b)"
   ]
  },
  {
   "cell_type": "code",
   "execution_count": 3,
   "metadata": {},
   "outputs": [
    {
     "name": "stdout",
     "output_type": "stream",
     "text": [
      "1: 1 2: past\n",
      "1: 1 2: present\n",
      "1: 1 2: future\n",
      "1: 0 2: past\n",
      "1: 0 2: present\n",
      "1: 0 2: future\n"
     ]
    }
   ],
   "source": [
    "list = [(1, \"past\"), (1, \"present\"), (1, \"future\"), (0, \"past\"), (0, \"present\"), (0, \"future\")]\n",
    "\n",
    "for x, i in list:\n",
    "  print(\"1:\", x, \"2:\", i)"
   ]
  },
  {
   "cell_type": "code",
   "execution_count": 4,
   "metadata": {},
   "outputs": [
    {
     "data": {
      "text/plain": [
       "25"
      ]
     },
     "execution_count": 4,
     "metadata": {},
     "output_type": "execute_result"
    }
   ],
   "source": [
    "adverbs =  [\"slowly\", \"fast\", \"carefully\", \"carelessly\", \"effortlessly\", \"urgently\", \"always\", \"almost always\", \"usually\", \n",
    "    \"often\", \"sometimes\", \"occasionally\", \"seldom\", \"rarely\", \"almost never\",\"never\", \"quietly\", \"possibly\", \"incredibly\", \"probably\",\n",
    "    \"luckily\", \"happily\", \"angrily\", \"ironically\", \"basically\"]\n",
    "len(adverbs)"
   ]
  },
  {
   "cell_type": "code",
   "execution_count": 5,
   "metadata": {},
   "outputs": [
    {
     "data": {
      "text/plain": [
       "25"
      ]
     },
     "execution_count": 5,
     "metadata": {},
     "output_type": "execute_result"
    }
   ],
   "source": [
    "adjectives = [\"good\", \"new\", \"first\", \"last\", \"long\", \"great\", \"little\", \"own\", \"other\", \"old\", \"right\", \"big\", \"high\", \n",
    "    \"different\", \"small\", \"large\", \"next\", \"early\", \"young\", \"important\", \"few\", \"public\", \"bad\", \"same\", \"able\"]\n",
    "len(adjectives)"
   ]
  },
  {
   "cell_type": "code",
   "execution_count": 6,
   "metadata": {},
   "outputs": [
    {
     "name": "stdout",
     "output_type": "stream",
     "text": [
      "Rohan is 60 years old.\n",
      "Aviral is 21 years old.\n",
      "Harsh is 30 years old.\n",
      "Rahul is 40 years old.\n",
      "Raj is 20 years old.\n"
     ]
    }
   ],
   "source": [
    "list = [[\"Rohan\", 60], [\"Aviral\", 21], \n",
    "        [\"Harsh\", 30], [\"Rahul\", 40],\n",
    "        [\"Raj\", 20]]\n",
    "  \n",
    "# looping through nested list using indexes\n",
    "for names in list:\n",
    "    print(names[0], \"is\", names[1],\n",
    "          \"years old.\")"
   ]
  },
  {
   "cell_type": "code",
   "execution_count": 7,
   "metadata": {},
   "outputs": [
    {
     "name": "stdout",
     "output_type": "stream",
     "text": [
      "Actinium , 227\n",
      "Silver , 107.8682\n",
      "Aluminum , 26.9815386\n",
      "Argon , 39.948\n",
      "Arsenic , 74.9216\n",
      "Astatine , 210\n",
      "Gold , 196.966569\n",
      "Boron , 10.811\n",
      "Barium , 137.327\n",
      "Beryllium , 9.012182\n",
      "Bismuth , 208.9804\n",
      "Bromine , 79.904\n",
      "Carbon , 12.0107\n",
      "Calcium , 40.078\n",
      "Cadmium , 112.411\n",
      "Cerium , 140.116\n",
      "Chlorine , 35.453\n",
      "Cobalt , 58.933195\n",
      "Chromium , 51.9961\n",
      "Cesium , 132.9054519\n",
      "Copper , 63.546\n",
      "Dysprosium , 162.5\n",
      "Erbium , 167.259\n",
      "Europium , 151.964\n",
      "Fluorine , 18.9984032\n",
      "Iron , 55.845\n",
      "Francium , 223\n",
      "Gallium , 69.723\n",
      "Gadolinium , 157.25\n",
      "Germanium , 72.64\n",
      "Hydrogen , 1.00794\n",
      "Helium , 4.002602\n",
      "Hafnium , 178.49\n",
      "Mercury , 200.59\n",
      "Holmium , 164.93032\n",
      "Iodine , 126.90447\n",
      "Indium , 114.818\n",
      "Iridium , 192.217\n",
      "Potassium , 39.0983\n",
      "Krypton , 83.798\n",
      "Lanthanum , 138.90547\n",
      "Lithium , 6.941\n",
      "Lutetium , 174.9668\n",
      "Magnesium , 24.305\n",
      "Manganese , 54.938045\n",
      "Molybdenum , 95.96\n",
      "Nitrogen , 14.0067\n",
      "Sodium , 22.98976928\n",
      "Niobium , 92.90638\n",
      "Neodymium , 144.242\n",
      "Neon , 20.1797\n",
      "Nickel , 58.6934\n",
      "Neptunium , 237\n",
      "Oxygen , 15.9994\n",
      "Osmium , 190.23\n",
      "Phosphorus , 30.973762\n",
      "Protactinium , 231.035\n",
      "Lead , 207.2\n",
      "Palladium , 106.42\n",
      "Promethium , 145\n",
      "Polonium , 209\n",
      "Praseodymium , 140.90765\n",
      "Platinum , 195.084\n",
      "Plutonium , 244\n",
      "Radium , 226\n",
      "Rubidium , 85.4678\n",
      "Rhenium , 186.207\n",
      "Rhodium , 102.9055\n",
      "Radon , 222\n",
      "Ruthenium , 101.07\n",
      "Sulfur , 32.065\n",
      "Antimony , 121.76\n",
      "Scandium , 44.955912\n",
      "Selenium , 78.96\n",
      "Silicon , 28.0855\n",
      "Samarium , 150.36\n",
      "Tin , 118.71\n",
      "Strontium , 87.62\n",
      "Tantalum , 180.94788\n",
      "Terbium , 158.92535\n",
      "Technetium , 98\n",
      "Tellurium , 127.6\n",
      "Thorium , 232.03806\n",
      "Titanium , 47.867\n",
      "Thallium , 204.3833\n",
      "Thulium , 168.93421\n",
      "Uranium , 238.02891\n",
      "Vanadium , 50.9415\n",
      "Tungsten , 183.84\n",
      "Xenon , 131.293\n",
      "Yttrium , 88.90585\n",
      "Ytterbium , 173.054\n",
      "Zinc , 65.38\n",
      "Zirconium , 91.224\n"
     ]
    }
   ],
   "source": [
    "pt_list = [\n",
    "    # [symbol, name, atomic_mass]\n",
    "    [\"Ac\", \"Actinium\", 227],\n",
    "    [\"Ag\", \"Silver\", 107.8682],\n",
    "    [\"Al\", \"Aluminum\", 26.9815386],\n",
    "    [\"Ar\", \"Argon\", 39.948],\n",
    "    [\"As\", \"Arsenic\", 74.9216],\n",
    "    [\"At\", \"Astatine\", 210],\n",
    "    [\"Au\", \"Gold\", 196.966569],\n",
    "    [\"B\", \"Boron\", 10.811],\n",
    "    [\"Ba\", \"Barium\", 137.327],\n",
    "    [\"Be\", \"Beryllium\", 9.012182],\n",
    "    [\"Bi\", \"Bismuth\", 208.9804],\n",
    "    [\"Br\", \"Bromine\", 79.904],\n",
    "    [\"C\", \"Carbon\", 12.0107],\n",
    "    [\"Ca\", \"Calcium\", 40.078],\n",
    "    [\"Cd\", \"Cadmium\", 112.411],\n",
    "    [\"Ce\", \"Cerium\", 140.116],\n",
    "    [\"Cl\", \"Chlorine\", 35.453],\n",
    "    [\"Co\", \"Cobalt\", 58.933195],\n",
    "    [\"Cr\", \"Chromium\", 51.9961],\n",
    "    [\"Cs\", \"Cesium\", 132.9054519],\n",
    "    [\"Cu\", \"Copper\", 63.546],\n",
    "    [\"Dy\", \"Dysprosium\", 162.5],\n",
    "    [\"Er\", \"Erbium\", 167.259],\n",
    "    [\"Eu\", \"Europium\", 151.964],\n",
    "    [\"F\", \"Fluorine\", 18.9984032],\n",
    "    [\"Fe\", \"Iron\", 55.845],\n",
    "    [\"Fr\", \"Francium\", 223],\n",
    "    [\"Ga\", \"Gallium\", 69.723],\n",
    "    [\"Gd\", \"Gadolinium\", 157.25],\n",
    "    [\"Ge\", \"Germanium\", 72.64],\n",
    "    [\"H\", \"Hydrogen\", 1.00794],\n",
    "    [\"He\", \"Helium\", 4.002602],\n",
    "    [\"Hf\", \"Hafnium\", 178.49],\n",
    "    [\"Hg\", \"Mercury\", 200.59],\n",
    "    [\"Ho\", \"Holmium\", 164.93032],\n",
    "    [\"I\", \"Iodine\", 126.90447],\n",
    "    [\"In\", \"Indium\", 114.818],\n",
    "    [\"Ir\", \"Iridium\", 192.217],\n",
    "    [\"K\", \"Potassium\", 39.0983],\n",
    "    [\"Kr\", \"Krypton\", 83.798],\n",
    "    [\"La\", \"Lanthanum\", 138.90547],\n",
    "    [\"Li\", \"Lithium\", 6.941],\n",
    "    [\"Lu\", \"Lutetium\", 174.9668],\n",
    "    [\"Mg\", \"Magnesium\", 24.305],\n",
    "    [\"Mn\", \"Manganese\", 54.938045],\n",
    "    [\"Mo\", \"Molybdenum\", 95.96],\n",
    "    [\"N\", \"Nitrogen\", 14.0067],\n",
    "    [\"Na\", \"Sodium\", 22.98976928],\n",
    "    [\"Nb\", \"Niobium\", 92.90638],\n",
    "    [\"Nd\", \"Neodymium\", 144.242],\n",
    "    [\"Ne\", \"Neon\", 20.1797],\n",
    "    [\"Ni\", \"Nickel\", 58.6934],\n",
    "    [\"Np\", \"Neptunium\", 237],\n",
    "    [\"O\", \"Oxygen\", 15.9994],\n",
    "    [\"Os\", \"Osmium\", 190.23],\n",
    "    [\"P\", \"Phosphorus\", 30.973762],\n",
    "    [\"Pa\", \"Protactinium\", 231.035,88],\n",
    "    [\"Pb\", \"Lead\", 207.2],\n",
    "    [\"Pd\", \"Palladium\", 106.42],\n",
    "    [\"Pm\", \"Promethium\", 145],\n",
    "    [\"Po\", \"Polonium\", 209],\n",
    "    [\"Pr\", \"Praseodymium\", 140.90765],\n",
    "    [\"Pt\", \"Platinum\", 195.084],\n",
    "    [\"Pu\", \"Plutonium\", 244],\n",
    "    [\"Ra\", \"Radium\", 226],\n",
    "    [\"Rb\", \"Rubidium\", 85.4678],\n",
    "    [\"Re\", \"Rhenium\", 186.207],\n",
    "    [\"Rh\", \"Rhodium\", 102.9055],\n",
    "    [\"Rn\", \"Radon\", 222],\n",
    "    [\"Ru\", \"Ruthenium\", 101.07],\n",
    "    [\"S\", \"Sulfur\", 32.065],\n",
    "    [\"Sb\", \"Antimony\", 121.76],\n",
    "    [\"Sc\", \"Scandium\", 44.955912],\n",
    "    [\"Se\", \"Selenium\", 78.96],\n",
    "    [\"Si\", \"Silicon\", 28.0855],\n",
    "    [\"Sm\", \"Samarium\", 150.36],\n",
    "    [\"Sn\", \"Tin\", 118.71],\n",
    "    [\"Sr\", \"Strontium\", 87.62],\n",
    "    [\"Ta\", \"Tantalum\", 180.94788],\n",
    "    [\"Tb\", \"Terbium\", 158.92535],\n",
    "    [\"Tc\", \"Technetium\", 98],\n",
    "    [\"Te\", \"Tellurium\", 127.6],\n",
    "    [\"Th\", \"Thorium\", 232.03806],\n",
    "    [\"Ti\", \"Titanium\", 47.867],\n",
    "    [\"Tl\", \"Thallium\", 204.3833],\n",
    "    [\"Tm\", \"Thulium\", 168.93421],\n",
    "    [\"U\", \"Uranium\", 238.02891],\n",
    "    [\"V\", \"Vanadium\", 50.9415],\n",
    "    [\"W\", \"Tungsten\", 183.84],\n",
    "    [\"Xe\", \"Xenon\", 131.293],\n",
    "    [\"Y\", \"Yttrium\", 88.90585],\n",
    "    [\"Yb\", \"Ytterbium\", 173.054],\n",
    "    [\"Zn\", \"Zinc\", 65.38],\n",
    "    [\"Zr\", \"Zirconium\", 91.224]]\n",
    "\n",
    "\n",
    "for i in pt_list:\n",
    "    print(i[1], \",\", i[2])"
   ]
  }
 ],
 "metadata": {
  "kernelspec": {
   "display_name": "Python 3.10.7 64-bit",
   "language": "python",
   "name": "python3"
  },
  "language_info": {
   "codemirror_mode": {
    "name": "ipython",
    "version": 3
   },
   "file_extension": ".py",
   "mimetype": "text/x-python",
   "name": "python",
   "nbconvert_exporter": "python",
   "pygments_lexer": "ipython3",
   "version": "3.10.7"
  },
  "orig_nbformat": 4,
  "vscode": {
   "interpreter": {
    "hash": "aee8b7b246df8f9039afb4144a1f6fd8d2ca17a180786b69acc140d282b71a49"
   }
  }
 },
 "nbformat": 4,
 "nbformat_minor": 2
}
