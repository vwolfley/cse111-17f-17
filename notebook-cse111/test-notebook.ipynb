{
 "cells": [
  {
   "cell_type": "code",
   "execution_count": 1,
   "metadata": {},
   "outputs": [
    {
     "name": "stdout",
     "output_type": "stream",
     "text": [
      "a: 1 b: 2\n",
      "a: 3 b: 4\n"
     ]
    }
   ],
   "source": [
    "list_of_tuples = [(1,2), (3,4)]\n",
    "\n",
    "for a, b in list_of_tuples:\n",
    "  print(\"a:\", a, \"b:\", b)"
   ]
  },
  {
   "cell_type": "code",
   "execution_count": 4,
   "metadata": {},
   "outputs": [
    {
     "name": "stdout",
     "output_type": "stream",
     "text": [
      "1: 1 2: past\n",
      "1: 1 2: present\n",
      "1: 1 2: future\n",
      "1: 0 2: past\n",
      "1: 0 2: present\n",
      "1: 0 2: future\n"
     ]
    }
   ],
   "source": [
    "list = [(1, \"past\"), (1, \"present\"), (1, \"future\"), (0, \"past\"), (0, \"present\"), (0, \"future\")]\n",
    "\n",
    "for x, i in list:\n",
    "  print(\"1:\", x, \"2:\", i)"
   ]
  },
  {
   "cell_type": "code",
   "execution_count": null,
   "metadata": {},
   "outputs": [],
   "source": []
  }
 ],
 "metadata": {
  "kernelspec": {
   "display_name": "Python 3.10.7 64-bit",
   "language": "python",
   "name": "python3"
  },
  "language_info": {
   "codemirror_mode": {
    "name": "ipython",
    "version": 3
   },
   "file_extension": ".py",
   "mimetype": "text/x-python",
   "name": "python",
   "nbconvert_exporter": "python",
   "pygments_lexer": "ipython3",
   "version": "3.10.7"
  },
  "orig_nbformat": 4,
  "vscode": {
   "interpreter": {
    "hash": "aee8b7b246df8f9039afb4144a1f6fd8d2ca17a180786b69acc140d282b71a49"
   }
  }
 },
 "nbformat": 4,
 "nbformat_minor": 2
}
