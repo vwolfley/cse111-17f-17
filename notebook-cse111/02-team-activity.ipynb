{
 "cells": [
  {
   "cell_type": "markdown",
   "id": "37c5f682",
   "metadata": {},
   "source": [
    "# 02 Teach: Team Activity"
   ]
  },
  {
   "cell_type": "markdown",
   "id": "827277fd",
   "metadata": {},
   "source": [
    "## Purpose\n",
    "Improve your understanding of calling built-in Python functions and calling functions and methods that are in a standard Python module.\n",
    "\n",
    "## Problem Statement\n",
    "You work for a retail store that wants to increase sales on Tuesday and Wednesday, which are the store's slowest sales days. On Tuesday and Wednesday, if a customer's subtotal is $50 or greater, the store will discount the customer's subtotal by 10%.\n",
    "\n",
    "## Assignment\n",
    "Work as a team to write a Python program named discount.py that gets a customer's subtotal as input and gets the current day of the week from your computer's operating system. Your program must not ask the user to enter the day of the week. Instead, it must get the day of the week from your computer's operating system.\n",
    "\n",
    "If the subtotal is $50 or greater and today is Tuesday or Wednesday, your program must subtract 10% from the subtotal. Your program must then compute the total amount due by adding sales tax of 6% to the subtotal. Your program must print the discount amount if applicable, the sales tax amount, and the total amount due.\n"
   ]
  },
  {
   "cell_type": "markdown",
   "id": "ed719858",
   "metadata": {},
   "source": [
    "### weekday function in python\n",
    "\n",
    "The weekday() function of date class in datetime module, returns an integer\n",
    "\n",
    "corresponding to the day of the week.  Here is the mapping of integer values to the days of the week.\n",
    "\n",
    "Monday = 0\n",
    "Tuesday = 1\n",
    "Wednesday = 2\n",
    "Thursday =3\n",
    "Friday = 4\n",
    "Saturday =5\n",
    "Sunday = 6"
   ]
  },
  {
   "cell_type": "code",
   "execution_count": 30,
   "id": "09088307",
   "metadata": {},
   "outputs": [
    {
     "name": "stdout",
     "output_type": "stream",
     "text": [
      "Please enter the subtotal: 42.75\n",
      "Subtotal = $42.75\n",
      "Sales Tax = $2.56\n",
      "Total = $45.31\n"
     ]
    }
   ],
   "source": [
    "# Import datetime module\n",
    "from datetime import datetime\n",
    "\n",
    "# If subtotal >= $50 on Tuesday or Wednesday\n",
    "# subtract 10% from subtotal\n",
    "# Total is then subtotal + sales tax of 6%\n",
    "\n",
    "# Print the Discount if applicable\n",
    "# Print Sales Tax amount\n",
    "# Print total abount due\n",
    "\n",
    "# User enters subtotal\n",
    "subtotal = float(input(\"Please enter the subtotal: \"))\n",
    "\n",
    "# Get current date and time\n",
    "now = datetime.now()\n",
    "# Get the day of the week\n",
    "# day_of_week = now.weekday()\n",
    "\n",
    "# FOR TESTING ONLY\n",
    "##################\n",
    "day_of_week = 3\n",
    "##################\n",
    "\n",
    "# If weekday = 1 or weekday = 2\n",
    "if (day_of_week == 1 or day_of_week == 2):\n",
    "    \n",
    "    # If subtotal is >= $50\n",
    "    if subtotal >= 50:\n",
    "        discount = subtotal * 0.10\n",
    "        sales_tax = round((subtotal - discount) * 0.06, 2)\n",
    "        total = subtotal - discount + sales_tax\n",
    "    else:\n",
    "        discount = 0\n",
    "        sales_tax = round((subtotal - discount) * 0.06, 2)\n",
    "        total = subtotal - discount + sales_tax\n",
    "        \n",
    "else:       \n",
    "    sales_tax = round(subtotal * 0.06, 2)\n",
    "    discount = 0\n",
    "    total = subtotal + sales_tax\n",
    "\n",
    "\n",
    "print(f\"Subtotal = ${subtotal:,.2f}\")\n",
    "if(discount != 0):   \n",
    "    print(f\"Discount = ${discount:,.2f}\")\n",
    "print(f\"Sales Tax = ${sales_tax}\")\n",
    "print(f\"Total = ${total:,.2f}\")\n",
    "\n"
   ]
  },
  {
   "cell_type": "code",
   "execution_count": null,
   "id": "f31240a7",
   "metadata": {},
   "outputs": [],
   "source": []
  },
  {
   "cell_type": "code",
   "execution_count": 8,
   "id": "1ace7a9f",
   "metadata": {},
   "outputs": [
    {
     "name": "stdout",
     "output_type": "stream",
     "text": [
      "13:40:05\n",
      "10:00:00\n",
      "YES\n"
     ]
    }
   ],
   "source": [
    "# Import datetime module\n",
    "from datetime import datetime\n",
    "current_time = datetime.now()\n",
    "print(f\"{current_time:%H:%M:%S}\")\n",
    "\n",
    "# time = current_time.strftime(\"%H:%M:%S\")\n",
    "time = \"10:00:00\"\n",
    "print(time)\n",
    "\n",
    "if (time < \"11:00:00\"):\n",
    "    print(\"YES\")"
   ]
  },
  {
   "cell_type": "code",
   "execution_count": 18,
   "id": "2eca6d07",
   "metadata": {},
   "outputs": [
    {
     "name": "stdout",
     "output_type": "stream",
     "text": [
      "3\n",
      "<class 'int'>\n",
      "14:14:41\n",
      "<class 'str'>\n",
      "Day of the Week Discount\n"
     ]
    }
   ],
   "source": [
    "# Import datetime module\n",
    "from datetime import datetime\n",
    "\n",
    "dt = datetime.now()\n",
    "\n",
    "day_of_week = dt.weekday()\n",
    "\n",
    "print(day_of_week)\n",
    "print(type(day_of_week))\n",
    "print(f\"{dt:%H:%M:%S}\")\n",
    "current_time = dt.strftime(\"%H:%M:%S\")\n",
    "print(type(current_time))\n",
    "\n",
    "# Discount for day of week Tuesday=1 or Wednesday = 2\n",
    "if (day_of_week == 1 or day_of_week == 3):\n",
    "    print(f'''{\"Day of the Week Discount\"}''')\n",
    "\n",
    "# Discount for time of day - before 11:00 am\n",
    "if ((day_of_week != 1 and day_of_week != 3) and (current_time > \"11:00:00\")):\n",
    "    print(day_of_week, current_time)\n",
    "    print(f'''{\"Time of Day Discount\"}''')"
   ]
  },
  {
   "cell_type": "code",
   "execution_count": 13,
   "id": "3f1c4116",
   "metadata": {},
   "outputs": [
    {
     "name": "stdout",
     "output_type": "stream",
     "text": [
      "True\n"
     ]
    }
   ],
   "source": [
    "x = 5\n",
    "\n",
    "print(x > 3 and x < 10)"
   ]
  },
  {
   "cell_type": "code",
   "execution_count": null,
   "id": "b8afee59",
   "metadata": {},
   "outputs": [],
   "source": []
  }
 ],
 "metadata": {
  "kernelspec": {
   "display_name": "Python 3 (ipykernel)",
   "language": "python",
   "name": "python3"
  },
  "language_info": {
   "codemirror_mode": {
    "name": "ipython",
    "version": 3
   },
   "file_extension": ".py",
   "mimetype": "text/x-python",
   "name": "python",
   "nbconvert_exporter": "python",
   "pygments_lexer": "ipython3",
   "version": "3.9.7"
  }
 },
 "nbformat": 4,
 "nbformat_minor": 5
}
