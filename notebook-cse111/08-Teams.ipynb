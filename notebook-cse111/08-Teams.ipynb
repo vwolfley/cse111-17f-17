{
 "cells": [
  {
   "cell_type": "code",
   "execution_count": 16,
   "id": "2613a182",
   "metadata": {},
   "outputs": [],
   "source": [
    "NAME_INDEX = 0\n",
    "GENDER_INDEX = 1\n",
    "BIRTH_YEAR_INDEX = 2\n",
    "DEATH_YEAR_INDEX = 3\n",
    "    \n",
    "people_dict = {\n",
    "    # Each item in the people dictionary is a key value pair.\n",
    "    # Each key is a unique identifier that begins with the\n",
    "    # letter \"P\". Each value is a list of data about a person.\n",
    "    # Each item in the dictionary is in this format:\n",
    "    # person_key: [name, gender, birth_year, death_year]\n",
    "    \"P143\": [\"Lola Park\", \"F\", 1663, 1706],\n",
    "    \"P338\": [\"Savanna Foster\", \"F\", 1674, 1723],\n",
    "    \"P201\": [\"Tiffany Hughes\", \"F\", 1689, 1747],\n",
    "    \"P203\": [\"Ignacio Torres\", \"M\", 1693, 1758],\n",
    "    \"P128\": [\"Yasmin Li\", \"F\", 1701, 1716],\n",
    "    \"P342\": [\"Trent Ross\", \"M\", 1705, 1757],\n",
    "    \"P202\": [\"Samyukta Nguyen\", \"M\", 1717, 1774],\n",
    "    \"P132\": [\"Joel Johnson\", \"M\", 1724, 1800],\n",
    "    \"P445\": [\"Whitney Nelson\", \"F\", 1757, 1823],\n",
    "    \"P318\": [\"Khalid Ali\", \"M\", 1759, 1814],\n",
    "    \"P317\": [\"Davina Patel\", \"F\", 1775, 1860],\n",
    "    \"P313\": [\"Enzo Ruiz\", \"M\", 1782, 1782],\n",
    "    \"P475\": [\"Lauren Smith\", \"F\", 1800, 1802],\n",
    "    \"P455\": [\"Lucas Ross\", \"M\", 1800, 1853],\n",
    "    \"P435\": [\"Jamal Gray\", \"M\", 1810, 1831],\n",
    "    \"P204\": [\"Fatima Soares\", \"F\", 1812, 1898],\n",
    "    \"P206\": [\"Ephraim Foster\", \"M\", 1831, 1885],\n",
    "    \"P500\": [\"Peter Price\", \"M\", 1832, 1878],\n",
    "    \"P207\": [\"Rosalina Jimenez\", \"F\", 1875, 1956],\n",
    "    \"P425\": [\"Rachel Johnson\", \"F\", 1876, 1940],\n",
    "    \"P121\": [\"Vanessa Bennet\", \"F\", 1880, 1960],\n",
    "    \"P152\": [\"Jose Castillo\", \"M\", 1884, 1931],\n",
    "    \"P205\": [\"Liam Myers\", \"M\", 1902, 1950],\n",
    "    \"P465\": [\"Isabella Lopez\", \"F\", 1907, 1959],\n",
    "    \"P168\": [\"Megan Anderson\", \"F\", 1909, 1945]\n",
    "}"
   ]
  },
  {
   "cell_type": "code",
   "execution_count": 17,
   "id": "2db052de",
   "metadata": {},
   "outputs": [
    {
     "name": "stdout",
     "output_type": "stream",
     "text": [
      "Name and Age of Death\n",
      "Lola Park         : 43\n",
      "Savanna Foster    : 49\n",
      "Tiffany Hughes    : 58\n",
      "Ignacio Torres    : 65\n",
      "Yasmin Li         : 15\n",
      "Trent Ross        : 52\n",
      "Samyukta Nguyen   : 57\n",
      "Joel Johnson      : 76\n",
      "Whitney Nelson    : 66\n",
      "Khalid Ali        : 55\n",
      "Davina Patel      : 85\n",
      "Enzo Ruiz         : 0\n",
      "Lauren Smith      : 2\n",
      "Lucas Ross        : 53\n",
      "Jamal Gray        : 21\n",
      "Fatima Soares     : 86\n",
      "Ephraim Foster    : 54\n",
      "Peter Price       : 46\n",
      "Rosalina Jimenez  : 81\n",
      "Rachel Johnson    : 64\n",
      "Vanessa Bennet    : 80\n",
      "Jose Castillo     : 47\n",
      "Liam Myers        : 48\n",
      "Isabella Lopez    : 52\n",
      "Megan Anderson    : 36\n"
     ]
    }
   ],
   "source": [
    "print(\"Name and Age of Death\")\n",
    "for key, value in people_dict.items():\n",
    "\n",
    "    name = value[NAME_INDEX]\n",
    "    birth = value[BIRTH_YEAR_INDEX]\n",
    "    death = value[DEATH_YEAR_INDEX]\n",
    "\n",
    "    print(f\"{name:<18}: {death-birth}\")"
   ]
  },
  {
   "cell_type": "code",
   "execution_count": null,
   "id": "1fff47ac",
   "metadata": {},
   "outputs": [],
   "source": []
  }
 ],
 "metadata": {
  "kernelspec": {
   "display_name": "Python 3 (ipykernel)",
   "language": "python",
   "name": "python3"
  },
  "language_info": {
   "codemirror_mode": {
    "name": "ipython",
    "version": 3
   },
   "file_extension": ".py",
   "mimetype": "text/x-python",
   "name": "python",
   "nbconvert_exporter": "python",
   "pygments_lexer": "ipython3",
   "version": "3.9.7"
  }
 },
 "nbformat": 4,
 "nbformat_minor": 5
}
