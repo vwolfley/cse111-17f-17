{
 "cells": [
  {
   "cell_type": "markdown",
   "id": "86400bc6",
   "metadata": {},
   "source": [
    "# Purpose: 06 Team Activity: Troubleshooting Functions\n",
    "- Date: 2022-10-08\n",
    "- File: esteem.py\n",
    "- Author: Vern Wolfley\n",
    "- Class: CSE 111\n",
    "- The Rosenberg self-esteem scale\n",
    "\n",
    "### Assignment\n",
    "As a team, write a Python program named esteem.py that implements the Rosenberg self-esteem scale. \n",
    "Your program must ask the user to respond to each of the ten statements with D, d, a, or A which \n",
    "mean strongly disagree, disagree, agree, and strongly agree. Your program must compute the score \n",
    "for each answer and sum and display the person's total score. You should think about how you will \n",
    "separate this program into functions before you begin writing the program.\n",
    "\n",
    "### Core Requirements\n",
    "1. Your program prints the introductory text as shown in the Testing Procedure section below.\n",
    "2. Your program prints each of the ten statements and gets a response from the user.\n",
    "3. Your program computes the score for each response and sums all the scores and displays the total score.\n"
   ]
  },
  {
   "cell_type": "markdown",
   "id": "8ebd3263",
   "metadata": {},
   "source": [
    "#### Varibles"
   ]
  },
  {
   "cell_type": "code",
   "execution_count": null,
   "id": "27f3734c",
   "metadata": {},
   "outputs": [],
   "source": []
  },
  {
   "cell_type": "markdown",
   "id": "3f07934f",
   "metadata": {},
   "source": [
    "#### Function main"
   ]
  },
  {
   "cell_type": "code",
   "execution_count": 9,
   "id": "6bb7ffd2",
   "metadata": {},
   "outputs": [],
   "source": [
    "def main():\n",
    "    opening_statement = '''\n",
    "This program is an implementation of the Rosenberg\n",
    "Self-Esteem Scale. This program will show you ten\n",
    "statements that you could possibly apply to yourself.\n",
    "Please rate how much you agree with each of the\n",
    "statements by responding with one of these four letters:\n",
    "\n",
    "D means you strongly disagree with the statement.\n",
    "d means you disagree with the statement.\n",
    "a means you agree with the statement.\n",
    "A means you strongly agree with the statement.\n",
    "'''\n",
    "\n",
    "    list_array = [\n",
    "        (\"1.\", \"I feel that I am a person of worth, at least on an equal plane with others.\", \"+\"),\n",
    "        (\"2.\", \"I feel that I have a number of good qualities.\", \"+\"),\n",
    "        (\"3.\", \"All in all, I am inclined to feel that I am a failure.\", \"-\"),\n",
    "        (\"4.\", \"I am able to do things as well as most other people.\", \"+\"),\n",
    "        (\"5.\", \"I feel I do not have much to be proud of.\", \"-\"),\n",
    "        (\"6.\", \"I take a positive attitude toward myself.\", \"+\"),\n",
    "        (\"7.\", \"On the whole, I am satisfied with myself.\", \"+\"),\n",
    "        (\"8.\", \"I wish I could have more respect for myself.\", \"-\"),\n",
    "        (\"9.\", \"I certainly feel useless at times.\", \"-\"),\n",
    "        (\"10.\", \"At times I think I am no good at all.\", \"-\")\n",
    "    ]\n",
    "\n",
    "    list_of_questions = [\"I feel that I am a person of worth, at least on an equal plane with others.\", \"I feel that I have a number of good qualities.\", \"All in all, I am inclined to feel that I am a failure.\", \"I am able to do things as well as most other people.\",\n",
    "\"I feel I do not have much to be proud of.\", \"I take a positive attitude toward myself.\", \"On the whole, I am satisfied with myself.\", \"I wish I could have more respect for myself.\", \"I certainly feel useless at times.\", \"At times I think I am no good at all.\"]\n",
    "\n",
    "    list_of_options = '''\n",
    "    Do you:\n",
    "    D - strongly disagree with the statement.\n",
    "    d - disagree with the statement.\n",
    "    a - agree with the statement.\n",
    "    A - strongly agree with the statement.\n",
    "'''\n",
    "\n",
    "    print(opening_statement)\n",
    "    \n",
    "    # Call ask_questions function\n",
    "#     answers = ask_questions()\n",
    "    \n",
    "    # Call ask_questions2 function\n",
    "    answers = ask_questions2()\n",
    "    \n",
    "    # Call calculate_results function\n",
    "    score = calculate_results(answers)\n",
    "\n",
    "    print(f'''\n",
    "Your score is {score}.\n",
    "A score below 15 may indicate problematic low self-esteem.''')"
   ]
  },
  {
   "cell_type": "markdown",
   "id": "5d8dd797",
   "metadata": {},
   "source": [
    "#### Function ask_questions"
   ]
  },
  {
   "cell_type": "code",
   "execution_count": 2,
   "id": "ebdd8752",
   "metadata": {},
   "outputs": [],
   "source": [
    "def ask_questions():\n",
    "    \"\"\"Loop though list of questions and collect responses.\n",
    "\n",
    "    Parameters: None\n",
    "    Return: a list of strings associated with the users inputted answers\n",
    "    \"\"\"\n",
    "    answers = []\n",
    "    for q in list_of_questions:\n",
    "        questions = input(f\"\\n {q}\\n {list_of_options}\")\n",
    "        answers += [questions]\n",
    "\n",
    "    return answers\n"
   ]
  },
  {
   "cell_type": "markdown",
   "id": "7950079b",
   "metadata": {},
   "source": [
    "#### Function ask_questions2"
   ]
  },
  {
   "cell_type": "code",
   "execution_count": 3,
   "id": "0e7cf449",
   "metadata": {},
   "outputs": [],
   "source": [
    "def ask_questions2():\n",
    "    \"\"\"Loop though list of questions and collect responses.\n",
    "\n",
    "    Parameters: None\n",
    "    Return: a list of strings associated with the users inputted answers\n",
    "    \"\"\"\n",
    "    answers = []\n",
    "    for q in list_array:\n",
    "        questions = input(f\"{q[0]} {q[1]}\\n {list_of_options}\")\n",
    "        response = get_valid_response(questions)\n",
    "        answers += [response]\n",
    "\n",
    "    return answers"
   ]
  },
  {
   "cell_type": "markdown",
   "id": "d7f434d5",
   "metadata": {},
   "source": [
    "#### Function calculate_results"
   ]
  },
  {
   "cell_type": "code",
   "execution_count": 4,
   "id": "424013a3",
   "metadata": {
    "slideshow": {
     "slide_type": "-"
    }
   },
   "outputs": [],
   "source": [
    "def calculate_results(answers):\n",
    "    \"\"\"Calculate the users response into a numerical score.\n",
    "\n",
    "    Parameters:\n",
    "        answers:  a list of string responses from the user.\n",
    "    Return: the score from the users response\n",
    "    \"\"\"\n",
    "    a = answers\n",
    "    positive = [a[0], a[1], a[3], a[5], a[6]]\n",
    "    negative = [a[2], a[4], a[7], a[8], a[9]]\n",
    "\n",
    "    pos_score = []\n",
    "    for i in positive:\n",
    "        if i == \"D\":\n",
    "            pos_score += [0]\n",
    "        elif i == \"d\":\n",
    "            pos_score += [1]\n",
    "        elif i == \"a\":\n",
    "            pos_score += [2]\n",
    "        elif i == \"A\":\n",
    "            pos_score += [3]\n",
    "        else:\n",
    "            None\n",
    "\n",
    "    neg_score = []\n",
    "    for i in negative:\n",
    "        if i == \"D\":\n",
    "            neg_score += [3]\n",
    "        elif i == \"d\":\n",
    "            neg_score += [2]\n",
    "        elif i == \"a\":\n",
    "            neg_score += [1]\n",
    "        elif i == \"A\":\n",
    "            neg_score += [0]\n",
    "        else:\n",
    "            None\n",
    "\n",
    "    pos_sum = sum(pos_score)\n",
    "    neg_sum = sum(neg_score)\n",
    "\n",
    "    # print(pos_score, pos_sum)\n",
    "    # print(neg_score, neg_sum)\n",
    "    print(a)\n",
    "    score = pos_sum + neg_sum\n",
    "\n",
    "    return score"
   ]
  },
  {
   "cell_type": "markdown",
   "id": "206e76bd",
   "metadata": {},
   "source": [
    "#### Function get_valid_response"
   ]
  },
  {
   "cell_type": "code",
   "execution_count": 5,
   "id": "db059847",
   "metadata": {},
   "outputs": [],
   "source": [
    "def get_valid_response(response):\n",
    "    while response not in ['D', 'd', 'a', 'A']:\n",
    "        print('Not a valid answer!')\n",
    "        response = input(list_of_options)\n",
    "    return response"
   ]
  },
  {
   "cell_type": "markdown",
   "id": "dbc60ef9",
   "metadata": {},
   "source": [
    "Call the main function so that this program will start executing."
   ]
  },
  {
   "cell_type": "code",
   "execution_count": 8,
   "id": "2ba8fd69",
   "metadata": {
    "scrolled": true
   },
   "outputs": [
    {
     "name": "stdout",
     "output_type": "stream",
     "text": [
      "\n",
      "This program is an implementation of the Rosenberg\n",
      "Self-Esteem Scale. This program will show you ten\n",
      "statements that you could possibly apply to yourself.\n",
      "Please rate how much you agree with each of the\n",
      "statements by responding with one of these four letters:\n",
      "\n",
      "D means you strongly disagree with the statement.\n",
      "d means you disagree with the statement.\n",
      "a means you agree with the statement.\n",
      "A means you strongly agree with the statement.\n",
      "\n"
     ]
    },
    {
     "ename": "NameError",
     "evalue": "name 'list_array' is not defined",
     "output_type": "error",
     "traceback": [
      "\u001b[0;31m---------------------------------------------------------------------------\u001b[0m",
      "\u001b[0;31mNameError\u001b[0m                                 Traceback (most recent call last)",
      "\u001b[0;32m/var/folders/9m/qm6tjx5x285ccj3txdwlssd00000gn/T/ipykernel_81140/3857340153.py\u001b[0m in \u001b[0;36m<module>\u001b[0;34m\u001b[0m\n\u001b[1;32m      2\u001b[0m \u001b[0;31m# this program will start executing.\u001b[0m\u001b[0;34m\u001b[0m\u001b[0;34m\u001b[0m\u001b[0m\n\u001b[1;32m      3\u001b[0m \u001b[0;32mif\u001b[0m \u001b[0m__name__\u001b[0m \u001b[0;34m==\u001b[0m \u001b[0;34m\"__main__\"\u001b[0m\u001b[0;34m:\u001b[0m\u001b[0;34m\u001b[0m\u001b[0;34m\u001b[0m\u001b[0m\n\u001b[0;32m----> 4\u001b[0;31m     \u001b[0mmain\u001b[0m\u001b[0;34m(\u001b[0m\u001b[0;34m)\u001b[0m\u001b[0;34m\u001b[0m\u001b[0;34m\u001b[0m\u001b[0m\n\u001b[0m",
      "\u001b[0;32m/var/folders/9m/qm6tjx5x285ccj3txdwlssd00000gn/T/ipykernel_81140/2476477961.py\u001b[0m in \u001b[0;36mmain\u001b[0;34m()\u001b[0m\n\u001b[1;32m     43\u001b[0m \u001b[0;34m\u001b[0m\u001b[0m\n\u001b[1;32m     44\u001b[0m     \u001b[0;31m# Call ask_questions2 function\u001b[0m\u001b[0;34m\u001b[0m\u001b[0;34m\u001b[0m\u001b[0m\n\u001b[0;32m---> 45\u001b[0;31m     \u001b[0manswers\u001b[0m \u001b[0;34m=\u001b[0m \u001b[0mask_questions2\u001b[0m\u001b[0;34m(\u001b[0m\u001b[0;34m)\u001b[0m\u001b[0;34m\u001b[0m\u001b[0;34m\u001b[0m\u001b[0m\n\u001b[0m\u001b[1;32m     46\u001b[0m \u001b[0;34m\u001b[0m\u001b[0m\n\u001b[1;32m     47\u001b[0m     \u001b[0;31m# Call calculate_results function\u001b[0m\u001b[0;34m\u001b[0m\u001b[0;34m\u001b[0m\u001b[0m\n",
      "\u001b[0;32m/var/folders/9m/qm6tjx5x285ccj3txdwlssd00000gn/T/ipykernel_81140/2793525188.py\u001b[0m in \u001b[0;36mask_questions2\u001b[0;34m()\u001b[0m\n\u001b[1;32m      6\u001b[0m     \"\"\"\n\u001b[1;32m      7\u001b[0m     \u001b[0manswers\u001b[0m \u001b[0;34m=\u001b[0m \u001b[0;34m[\u001b[0m\u001b[0;34m]\u001b[0m\u001b[0;34m\u001b[0m\u001b[0;34m\u001b[0m\u001b[0m\n\u001b[0;32m----> 8\u001b[0;31m     \u001b[0;32mfor\u001b[0m \u001b[0mq\u001b[0m \u001b[0;32min\u001b[0m \u001b[0mlist_array\u001b[0m\u001b[0;34m:\u001b[0m\u001b[0;34m\u001b[0m\u001b[0;34m\u001b[0m\u001b[0m\n\u001b[0m\u001b[1;32m      9\u001b[0m         \u001b[0mquestions\u001b[0m \u001b[0;34m=\u001b[0m \u001b[0minput\u001b[0m\u001b[0;34m(\u001b[0m\u001b[0;34mf\"{q[0]} {q[1]}\\n {list_of_options}\"\u001b[0m\u001b[0;34m)\u001b[0m\u001b[0;34m\u001b[0m\u001b[0;34m\u001b[0m\u001b[0m\n\u001b[1;32m     10\u001b[0m         \u001b[0mresponse\u001b[0m \u001b[0;34m=\u001b[0m \u001b[0mget_valid_response\u001b[0m\u001b[0;34m(\u001b[0m\u001b[0mquestions\u001b[0m\u001b[0;34m)\u001b[0m\u001b[0;34m\u001b[0m\u001b[0;34m\u001b[0m\u001b[0m\n",
      "\u001b[0;31mNameError\u001b[0m: name 'list_array' is not defined"
     ]
    }
   ],
   "source": [
    "# Call the main function so that\n",
    "# this program will start executing.\n",
    "if __name__ == \"__main__\":\n",
    "    main()"
   ]
  },
  {
   "cell_type": "code",
   "execution_count": null,
   "id": "7d828d99",
   "metadata": {},
   "outputs": [],
   "source": []
  }
 ],
 "metadata": {
  "kernelspec": {
   "display_name": "Python 3 (ipykernel)",
   "language": "python",
   "name": "python3"
  },
  "language_info": {
   "codemirror_mode": {
    "name": "ipython",
    "version": 3
   },
   "file_extension": ".py",
   "mimetype": "text/x-python",
   "name": "python",
   "nbconvert_exporter": "python",
   "pygments_lexer": "ipython3",
   "version": "3.9.7"
  }
 },
 "nbformat": 4,
 "nbformat_minor": 5
}
