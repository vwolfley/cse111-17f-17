{
 "cells": [
  {
   "cell_type": "code",
   "execution_count": 2,
   "id": "0b273688",
   "metadata": {},
   "outputs": [
    {
     "name": "stdout",
     "output_type": "stream",
     "text": [
      "Get age for: Jim\n",
      "Jim is 30 years old.\n"
     ]
    }
   ],
   "source": [
    "# ages.py\n",
    "\n",
    "ages = {'Jim': 30, 'Pam': 28, 'Kevin': 33}\n",
    "person = input('Get age for: ')\n",
    "\n",
    "try:\n",
    "    print(f'{person} is {ages[person]} years old.')\n",
    "except KeyError:\n",
    "    print(f\"{person}'s age is unknown.\")"
   ]
  },
  {
   "cell_type": "code",
   "execution_count": 7,
   "id": "62231ea6",
   "metadata": {},
   "outputs": [
    {
     "name": "stdout",
     "output_type": "stream",
     "text": [
      "Get age for: jim\n",
      "KeyError: 'jim'\n",
      "jim's age is unknown.\n"
     ]
    }
   ],
   "source": [
    "# ages.py\n",
    "\n",
    "ages = {'Jim': 30, 'Pam': 28, 'Kevin': 33}\n",
    "person = input('Get age for: ')\n",
    "\n",
    "try:\n",
    "    print(f'{person} is {ages[person]} years old.')\n",
    "except KeyError as error:\n",
    "    print(type(error).__name__, error, sep=\": \")\n",
    "    print(f\"{person}'s age is unknown.\")"
   ]
  },
  {
   "cell_type": "code",
   "execution_count": null,
   "id": "18d9b5bf",
   "metadata": {},
   "outputs": [],
   "source": []
  }
 ],
 "metadata": {
  "kernelspec": {
   "display_name": "Python 3 (ipykernel)",
   "language": "python",
   "name": "python3"
  },
  "language_info": {
   "codemirror_mode": {
    "name": "ipython",
    "version": 3
   },
   "file_extension": ".py",
   "mimetype": "text/x-python",
   "name": "python",
   "nbconvert_exporter": "python",
   "pygments_lexer": "ipython3",
   "version": "3.9.7"
  }
 },
 "nbformat": 4,
 "nbformat_minor": 5
}
