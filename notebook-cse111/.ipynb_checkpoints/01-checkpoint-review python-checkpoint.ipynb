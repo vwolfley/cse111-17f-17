{
 "cells": [
  {
   "cell_type": "markdown",
   "id": "a191b6d1",
   "metadata": {},
   "source": [
    "# Week 1 Checkpoint:  Review Python"
   ]
  },
  {
   "cell_type": "code",
   "execution_count": 7,
   "id": "558ffb74",
   "metadata": {},
   "outputs": [
    {
     "name": "stdout",
     "output_type": "stream",
     "text": [
      "What is your age? 48\n",
      "\n",
      "When you exercise to strengthen your heart, you should \n",
      "keep your heart rate between 111 and 146 beats per minute.\n"
     ]
    }
   ],
   "source": [
    "#####\n",
    "# Date: 2022-09-13\n",
    "# File: heart_rate.py\n",
    "# Author: Vern Wolfley\n",
    "# Purpose: Computes and outputs the slowest and fastest heart rates\n",
    "#####\n",
    "\n",
    "\"\"\"\n",
    "When you physically exercise to strengthen your heart, you\n",
    "should maintain your heart rate within a range for at least 20\n",
    "minutes. To find that range, subtract your age from 220. This\n",
    "difference is your maximum heart rate per minute. Your heart\n",
    "simply will not beat faster than this maximum (220 - age).\n",
    "When exercising to strengthen your heart, you should keep your\n",
    "heart rate between 65% and 85% of your heart's maximum rate.\n",
    "\"\"\"\n",
    "\n",
    "age = int(input(\"What is your age? \"))\n",
    "maximum = (220 - age)\n",
    "minRate = int(maximum * 0.65)\n",
    "maxRate = int(maximum * 0.85)\n",
    "\n",
    "print(f'''\n",
    "When you exercise to strengthen your heart, you should \n",
    "keep your heart rate between {minRate} and {maxRate} beats per minute.''')"
   ]
  },
  {
   "cell_type": "code",
   "execution_count": null,
   "id": "e2ddd2d6",
   "metadata": {},
   "outputs": [],
   "source": []
  },
  {
   "cell_type": "code",
   "execution_count": null,
   "id": "6c096a89",
   "metadata": {},
   "outputs": [],
   "source": []
  }
 ],
 "metadata": {
  "kernelspec": {
   "display_name": "Python 3 (ipykernel)",
   "language": "python",
   "name": "python3"
  },
  "language_info": {
   "codemirror_mode": {
    "name": "ipython",
    "version": 3
   },
   "file_extension": ".py",
   "mimetype": "text/x-python",
   "name": "python",
   "nbconvert_exporter": "python",
   "pygments_lexer": "ipython3",
   "version": "3.9.7"
  }
 },
 "nbformat": 4,
 "nbformat_minor": 5
}
