{
 "cells": [
  {
   "cell_type": "markdown",
   "metadata": {},
   "source": [
    "# Week 1 Prove Milestone: Review Python"
   ]
  },
  {
   "cell_type": "code",
   "execution_count": 6,
   "metadata": {},
   "outputs": [
    {
     "name": "stdout",
     "output_type": "stream",
     "text": [
      "This program computes and outputs the volume or space inside a tire.\n",
      "The volume inside the tire is: 39.92\n"
     ]
    }
   ],
   "source": [
    "#####\n",
    "# Date: 2022-09-17\n",
    "# File: tire_volume.py\n",
    "# Author: Vern Wolfley\n",
    "# Purpose: Write a Python program named tire_volume.py \n",
    "# that reads from the keyboard the three numbers for \n",
    "# a tire and computes and outputs the volume of space \n",
    "# inside that tire.\n",
    "#####\n",
    "\n",
    "\"\"\"\n",
    "The size of a car tire in the United States is represented with three numbers like this: 205/60R15. \n",
    "The first number is the width of the tire in millimeters. \n",
    "The second number is the aspect ratio. \n",
    "The third number is the diameter in inches of the wheel that the tire fits. \n",
    "The volume of space inside a tire can be approximated with this formula:\n",
    "\"\"\"\n",
    "\n",
    "\"\"\"\n",
    "v is the volume in liters,\n",
    "π is the constant PI, which is the ratio of the circumference of a circle divided by its diameter (use math.pi),\n",
    "w is the width of the tire in millimeters,\n",
    "a is the aspect ratio of the tire, and\n",
    "d is the diameter of the wheel in inches. \n",
    "\"\"\"\n",
    "\n",
    "# Import math module\n",
    "import math\n",
    "\n",
    "# Print program description for user\n",
    "print(f'This program computes and outputs the volume or space inside a tire.')\n",
    "\n",
    "\n",
    "# User input\n",
    "# User input needs to be a float value instead of an integer to allow for half sizes\n",
    "tire_width = float(input(\"What is the tire width in mm: \"))\n",
    "tire_ratio = float(input(\"What is the tire aspect ratio: \"))\n",
    "tire_diameter = float(input(\"What is the tire diameter: \"))\n",
    "\n",
    "# Compute the volume of space inside the tire\n",
    "# Answer expressed in liters\n",
    "volume = (math.pi * tire_width**2 * tire_ratio * (tire_width * tire_ratio + 2540 * tire_diameter))/10000000000\n",
    "\n",
    "# Round the value of the volume\n",
    "volume = round(volume, 2)\n",
    "\n",
    "# Print result for user in liters\n",
    "print(f\"The volume inside the tire is: {volume} Liters\")\n",
    "\n"
   ]
  },
  {
   "cell_type": "code",
   "execution_count": 3,
   "metadata": {},
   "outputs": [
    {
     "name": "stdout",
     "output_type": "stream",
     "text": [
      "vernawasome\n"
     ]
    }
   ],
   "source": [
    "a = \"vern\"\n",
    "b = \"awasome\"\n",
    "c = a + b\n"
   ]
  },
  {
   "cell_type": "code",
   "execution_count": 4,
   "metadata": {},
   "outputs": [
    {
     "name": "stdout",
     "output_type": "stream",
     "text": [
      "4\n"
     ]
    }
   ],
   "source": [
    "a = 1\n",
    "b = 3\n",
    "c = -2\n",
    "result = a + b * 7 % 4 - c\n",
    "print(result)"
   ]
  }
 ],
 "metadata": {
  "kernelspec": {
   "display_name": "Python 3 (ipykernel)",
   "language": "python",
   "name": "python3"
  },
  "language_info": {
   "codemirror_mode": {
    "name": "ipython",
    "version": 3
   },
   "file_extension": ".py",
   "mimetype": "text/x-python",
   "name": "python",
   "nbconvert_exporter": "python",
   "pygments_lexer": "ipython3",
   "version": "3.9.7"
  },
  "vscode": {
   "interpreter": {
    "hash": "aee8b7b246df8f9039afb4144a1f6fd8d2ca17a180786b69acc140d282b71a49"
   }
  }
 },
 "nbformat": 4,
 "nbformat_minor": 2
}
