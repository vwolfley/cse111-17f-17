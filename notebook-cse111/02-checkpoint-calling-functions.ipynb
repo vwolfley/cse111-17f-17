{
 "cells": [
  {
   "cell_type": "markdown",
   "id": "6bdd9e61",
   "metadata": {},
   "source": [
    "# 02 Checkpoint: Calling Functions"
   ]
  },
  {
   "cell_type": "markdown",
   "id": "e20a6694",
   "metadata": {},
   "source": [
    "A manufacturing company needs a program that will help its employees pack manufactured items into boxes for shipping. Write a Python program named boxes.py that asks the user for two integers:\n",
    "\n",
    "    the number of manufactured items\n",
    "    the number of items that the user will pack per box\n",
    "    \n",
    "Your program must compute and print the number of boxes necessary to hold the items. This must be a whole number. Note that the last box may be packed with fewer items than the other boxes."
   ]
  },
  {
   "cell_type": "code",
   "execution_count": 3,
   "id": "2e02665c",
   "metadata": {},
   "outputs": [
    {
     "name": "stdout",
     "output_type": "stream",
     "text": [
      "Enter the number of items: 7\n",
      "Enter the number of items per box: 4\n",
      "For 7 items, packing 4 items\n",
      "in each, you will need 2 boxes.\n"
     ]
    }
   ],
   "source": [
    "# Import the math module\n",
    "import math\n",
    "\n",
    "# User input - get 2 numbers\n",
    "items = int(input(\"Enter the number of items: \"))\n",
    "items_per_box = int(input(\"Enter the number of items per box: \"))\n",
    "\n",
    "# Computer number of boxes needed\n",
    "# Number of boxes should be a whole number\n",
    "num_boxes = math.ceil(items / items_per_box)\n",
    "\n",
    "# Output user statment\n",
    "boxes = f\"\"\"\n",
    "For {items} items, packing {items_per_box} items\n",
    "in each box , you will need {num_boxes} boxes.\n",
    "\"\"\"\n",
    "\n",
    "# Print user statment\n",
    "print(boxes)\n"
   ]
  },
  {
   "cell_type": "code",
   "execution_count": null,
   "id": "b5f872cb",
   "metadata": {},
   "outputs": [],
   "source": []
  }
 ],
 "metadata": {
  "kernelspec": {
   "display_name": "Python 3 (ipykernel)",
   "language": "python",
   "name": "python3"
  },
  "language_info": {
   "codemirror_mode": {
    "name": "ipython",
    "version": 3
   },
   "file_extension": ".py",
   "mimetype": "text/x-python",
   "name": "python",
   "nbconvert_exporter": "python",
   "pygments_lexer": "ipython3",
   "version": "3.9.7"
  }
 },
 "nbformat": 4,
 "nbformat_minor": 5
}
