{
 "cells": [
  {
   "cell_type": "markdown",
   "id": "8ace93ee",
   "metadata": {},
   "source": [
    "# 03 Prove Milestone: Writing Functions\n",
    "\n",
    "### Purpose\n",
    "Prove that you can write functions with parameters and call those functions multiple times with arguments.\n",
    "\n",
    "### Assignment\n",
    "During this prove milestone and the next prove assignment, you will write a Python program that draws a semi-realistic outdoor scene in a computer window. Your program can draw any outdoor scene that you like as long as it meets these requirements:\n",
    "\n",
    "1. The scene must be outdoor and include part of the sky.\n",
    "2. The sky must have clouds.\n",
    "3. The scene must include repetitive objects, such as blades of grass, trees, leaves on a tree, birds, flowers, insects, fish, pickets in a fence, dashed lines on a road, buildings, bales of hay, snowmen, snowflakes, or icicles.\n",
    "\n",
    "Your program must be divided into functions such as draw_sky, draw_cloud, draw_ground, draw_bird, draw_flower, draw_insect, draw_fish, or draw_snowman. Each of the objects in your scene should be drawn in its own function. To draw the shapes in the scene, your program will call functions in a Python library named Draw 2-D.\n",
    "\n",
    "During this milestone, you will write code that draws the sky, the ground, and clouds in your scene. During the next prove assignment, you will write code that completes your scene. As you write your program, write it so that it draws objects in the order of farthest away to nearest. For example, you program should draw the sky first, then clouds, then the ground, then trees, then insects in the trees. Be creative.\n",
    "\n",
    "#### Save your new file as scene.py"
   ]
  },
  {
   "cell_type": "code",
   "execution_count": 1,
   "id": "2103af7e",
   "metadata": {},
   "outputs": [
    {
     "ename": "ModuleNotFoundError",
     "evalue": "No module named 'draw2d'",
     "output_type": "error",
     "traceback": [
      "\u001b[0;31m---------------------------------------------------------------------------\u001b[0m",
      "\u001b[0;31mModuleNotFoundError\u001b[0m                       Traceback (most recent call last)",
      "\u001b[0;32m/var/folders/9m/qm6tjx5x285ccj3txdwlssd00000gn/T/ipykernel_68560/1208972000.py\u001b[0m in \u001b[0;36m<module>\u001b[0;34m\u001b[0m\n\u001b[1;32m      1\u001b[0m \u001b[0;31m# Import the functions from the Draw 2-D library\u001b[0m\u001b[0;34m\u001b[0m\u001b[0;34m\u001b[0m\u001b[0m\n\u001b[1;32m      2\u001b[0m \u001b[0;31m# so that they can be used in this program.\u001b[0m\u001b[0;34m\u001b[0m\u001b[0;34m\u001b[0m\u001b[0m\n\u001b[0;32m----> 3\u001b[0;31m \u001b[0;32mfrom\u001b[0m \u001b[0mdraw2d\u001b[0m \u001b[0;32mimport\u001b[0m\u001b[0;31m \u001b[0m\u001b[0;31m\\\u001b[0m\u001b[0;34m\u001b[0m\u001b[0;34m\u001b[0m\u001b[0m\n\u001b[0m\u001b[1;32m      4\u001b[0m     \u001b[0mstart_drawing\u001b[0m\u001b[0;34m,\u001b[0m \u001b[0mdraw_line\u001b[0m\u001b[0;34m,\u001b[0m \u001b[0mdraw_oval\u001b[0m\u001b[0;34m,\u001b[0m \u001b[0mdraw_arc\u001b[0m\u001b[0;34m,\u001b[0m\u001b[0;31m \u001b[0m\u001b[0;31m\\\u001b[0m\u001b[0;34m\u001b[0m\u001b[0;34m\u001b[0m\u001b[0m\n\u001b[1;32m      5\u001b[0m     \u001b[0mdraw_rectangle\u001b[0m\u001b[0;34m,\u001b[0m \u001b[0mdraw_polygon\u001b[0m\u001b[0;34m,\u001b[0m \u001b[0mdraw_text\u001b[0m\u001b[0;34m,\u001b[0m \u001b[0mfinish_drawing\u001b[0m\u001b[0;34m\u001b[0m\u001b[0;34m\u001b[0m\u001b[0m\n",
      "\u001b[0;31mModuleNotFoundError\u001b[0m: No module named 'draw2d'"
     ]
    }
   ],
   "source": [
    "# Import the functions from the Draw 2-D library\n",
    "# so that they can be used in this program.\n",
    "from draw2d import \\\n",
    "    start_drawing, draw_line, draw_oval, draw_arc, \\\n",
    "    draw_rectangle, draw_polygon, draw_text, finish_drawing\n",
    "\n",
    "\n",
    "def main():\n",
    "    # Width and height of the scene in pixels\n",
    "    scene_width = 800\n",
    "    scene_height = 500\n",
    "\n",
    "    # Call the start_drawing function in the draw2d.py\n",
    "    # library which will open a window and create a canvas.\n",
    "    canvas = start_drawing(\"Scene\", scene_width, scene_height)\n",
    "\n",
    "    # Call your drawing functions such\n",
    "    # as draw_sky and draw_ground here.\n",
    "\n",
    "\n",
    "\n",
    "    # Call the finish_drawing function\n",
    "    # in the draw2d.py library.\n",
    "    finish_drawing(canvas)\n",
    "\n",
    "\n",
    "# Define your functions such as\n",
    "# draw_sky and draw_ground here.\n",
    "\n",
    "\n",
    "\n",
    "# Call the main function so that\n",
    "# this program will start executing.\n",
    "main()"
   ]
  },
  {
   "cell_type": "code",
   "execution_count": null,
   "id": "ed16fb46",
   "metadata": {},
   "outputs": [],
   "source": []
  }
 ],
 "metadata": {
  "kernelspec": {
   "display_name": "Python 3 (ipykernel)",
   "language": "python",
   "name": "python3"
  },
  "language_info": {
   "codemirror_mode": {
    "name": "ipython",
    "version": 3
   },
   "file_extension": ".py",
   "mimetype": "text/x-python",
   "name": "python",
   "nbconvert_exporter": "python",
   "pygments_lexer": "ipython3",
   "version": "3.9.7"
  }
 },
 "nbformat": 4,
 "nbformat_minor": 5
}
