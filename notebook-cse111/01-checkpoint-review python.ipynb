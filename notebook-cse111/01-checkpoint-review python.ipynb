{
 "cells": [
  {
   "cell_type": "markdown",
   "id": "a191b6d1",
   "metadata": {},
   "source": [
    "# Week 1 Checkpoint:  Review Python"
   ]
  },
  {
   "cell_type": "code",
   "execution_count": 1,
   "id": "558ffb74",
   "metadata": {},
   "outputs": [
    {
     "ename": "ValueError",
     "evalue": "invalid literal for int() with base 10: ''",
     "output_type": "error",
     "traceback": [
      "\u001b[0;31m---------------------------------------------------------------------------\u001b[0m",
      "\u001b[0;31mValueError\u001b[0m                                Traceback (most recent call last)",
      "\u001b[0;32m/var/folders/9m/qm6tjx5x285ccj3txdwlssd00000gn/T/ipykernel_11238/2002159748.py\u001b[0m in \u001b[0;36m<module>\u001b[0;34m\u001b[0m\n\u001b[1;32m     16\u001b[0m \"\"\"\n\u001b[1;32m     17\u001b[0m \u001b[0;34m\u001b[0m\u001b[0m\n\u001b[0;32m---> 18\u001b[0;31m \u001b[0mage\u001b[0m \u001b[0;34m=\u001b[0m \u001b[0mint\u001b[0m\u001b[0;34m(\u001b[0m\u001b[0minput\u001b[0m\u001b[0;34m(\u001b[0m\u001b[0;34m\"What is your age? \"\u001b[0m\u001b[0;34m)\u001b[0m\u001b[0;34m)\u001b[0m\u001b[0;34m\u001b[0m\u001b[0;34m\u001b[0m\u001b[0m\n\u001b[0m\u001b[1;32m     19\u001b[0m \u001b[0mmaximum\u001b[0m \u001b[0;34m=\u001b[0m \u001b[0;34m(\u001b[0m\u001b[0;36m220\u001b[0m \u001b[0;34m-\u001b[0m \u001b[0mage\u001b[0m\u001b[0;34m)\u001b[0m\u001b[0;34m\u001b[0m\u001b[0;34m\u001b[0m\u001b[0m\n\u001b[1;32m     20\u001b[0m \u001b[0mminRate\u001b[0m \u001b[0;34m=\u001b[0m \u001b[0mint\u001b[0m\u001b[0;34m(\u001b[0m\u001b[0mmaximum\u001b[0m \u001b[0;34m*\u001b[0m \u001b[0;36m0.65\u001b[0m\u001b[0;34m)\u001b[0m\u001b[0;34m\u001b[0m\u001b[0;34m\u001b[0m\u001b[0m\n",
      "\u001b[0;31mValueError\u001b[0m: invalid literal for int() with base 10: ''"
     ]
    }
   ],
   "source": [
    "#####\n",
    "# Date: 2022-09-13\n",
    "# File: heart_rate.py\n",
    "# Author: Vern Wolfley\n",
    "# Purpose: Computes and outputs the slowest and fastest heart rates\n",
    "#####\n",
    "\n",
    "\"\"\"\n",
    "When you physically exercise to strengthen your heart, you\n",
    "should maintain your heart rate within a range for at least 20\n",
    "minutes. To find that range, subtract your age from 220. This\n",
    "difference is your maximum heart rate per minute. Your heart\n",
    "simply will not beat faster than this maximum (220 - age).\n",
    "When exercising to strengthen your heart, you should keep your\n",
    "heart rate between 65% and 85% of your heart's maximum rate.\n",
    "\"\"\"\n",
    "\n",
    "age = int(input(\"What is your age? \"))\n",
    "maximum = (220 - age)\n",
    "minRate = int(maximum * 0.65)\n",
    "maxRate = int(maximum * 0.85)\n",
    "\n",
    "print(f'''\n",
    "When you exercise to strengthen your heart, you should \n",
    "keep your heart rate between {minRate} and {maxRate} beats per minute.''')"
   ]
  },
  {
   "cell_type": "code",
   "execution_count": null,
   "id": "e2ddd2d6",
   "metadata": {},
   "outputs": [],
   "source": []
  },
  {
   "cell_type": "code",
   "execution_count": null,
   "id": "6c096a89",
   "metadata": {},
   "outputs": [],
   "source": []
  }
 ],
 "metadata": {
  "kernelspec": {
   "display_name": "Python 3.10.1 64-bit",
   "language": "python",
   "name": "python3"
  },
  "language_info": {
   "codemirror_mode": {
    "name": "ipython",
    "version": 3
   },
   "file_extension": ".py",
   "mimetype": "text/x-python",
   "name": "python",
   "nbconvert_exporter": "python",
   "pygments_lexer": "ipython3",
   "version": "3.10.1"
  },
  "vscode": {
   "interpreter": {
    "hash": "aee8b7b246df8f9039afb4144a1f6fd8d2ca17a180786b69acc140d282b71a49"
   }
  }
 },
 "nbformat": 4,
 "nbformat_minor": 5
}
