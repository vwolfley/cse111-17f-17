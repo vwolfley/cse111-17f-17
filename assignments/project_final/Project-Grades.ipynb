{
 "cells": [
  {
   "cell_type": "markdown",
   "id": "fb0d4f2c",
   "metadata": {},
   "source": [
    "### Reference Docs\n",
    "    - https://towardsdatascience.com/advanced-tips-on-how-to-read-csv-files-into-pandas-84ebb170f6e5\n",
    "    - https://queirozf.com/entries/pandas-dataframe-plot-examples-with-matplotlib-pyplot"
   ]
  },
  {
   "cell_type": "code",
   "execution_count": 68,
   "id": "5033bf61",
   "metadata": {},
   "outputs": [],
   "source": [
    "####################\n",
    "# Date: 2022-11-23\n",
    "# File: schools_grades.py\n",
    "# Author: Vern Wolfley\n",
    "# Class: CSE 111\n",
    "# Purpose:\n",
    "#####################\n",
    "\n",
    "import pandas as pd\n",
    "import numpy as np\n",
    "import matplotlib.pyplot as plt"
   ]
  },
  {
   "cell_type": "markdown",
   "id": "13a4546b",
   "metadata": {},
   "source": [
    "### Data Reference"
   ]
  },
  {
   "cell_type": "code",
   "execution_count": 69,
   "id": "5f4ba536",
   "metadata": {},
   "outputs": [],
   "source": [
    "ethnicity_column_dict = {\n",
    "    'Fiscal Year': [\"FiscalYear\",\"int64\"], \n",
    "    'LEA Name': [\"DistrictName\",\"object\"],\n",
    "    'LEA Entity ID': [\"DistrictEntityID\",\"float64\"],\n",
    "    'School Name': [\"SchoolName\",\"object\"],\n",
    "    'School Entity ID': [\"SchoolEntityID\",\"float64\"],\n",
    "    'Asian': [\"Asian\",\"float64\"],\n",
    "    'American Indian/Alaskan Native': [\"NativeAmerican\",\"float64\"],\n",
    "    'Black/African American': [\"Black\",\"float64\"],\n",
    "    'Hispanic/Latino': [\"Hispanic\",\"float64\"],\n",
    "    'White': [\"White\",\"float64\"],\n",
    "    'Native Hawaiian/Pacific Islander': [\"PacificIslander\",\"float64\"],\n",
    "    'Multiple Races': [\"Multiracial\",\"float64\"],\n",
    "    'Total': [\"Total\", \"float64\"]\n",
    "}\n",
    "NAME_INDEX = 0\n",
    "TYPE_INDEX =1"
   ]
  },
  {
   "cell_type": "code",
   "execution_count": null,
   "id": "c04ee00f",
   "metadata": {},
   "outputs": [],
   "source": []
  },
  {
   "cell_type": "code",
   "execution_count": 70,
   "id": "83bc25b3",
   "metadata": {},
   "outputs": [],
   "source": [
    "def change_column_names(dataframe, dictionary):\n",
    "\n",
    "    # define new dataframe for connivance\n",
    "    df = dataframe\n",
    "\n",
    "    # read ethnicity_column_dict and create names_dict\n",
    "    names_dict = {}\n",
    "    for key, value in ethnicity_column_dict.items():\n",
    "        names_dict[key] = value[NAME_INDEX]\n",
    "\n",
    "    # change column headers based on dictionary values\n",
    "    # Rename column names\n",
    "    for key, value in names_dict.items():\n",
    "        for name in df.columns:\n",
    "            if name == key:\n",
    "                df.rename(columns={name : value}, inplace=True)\n",
    "\n",
    "    return df"
   ]
  },
  {
   "cell_type": "code",
   "execution_count": null,
   "id": "65dec92f",
   "metadata": {},
   "outputs": [],
   "source": []
  },
  {
   "cell_type": "markdown",
   "id": "4bb54345",
   "metadata": {},
   "source": [
    "### Inport files"
   ]
  },
  {
   "cell_type": "code",
   "execution_count": 71,
   "id": "c9dd7bf3",
   "metadata": {},
   "outputs": [
    {
     "data": {
      "text/html": [
       "<div>\n",
       "<style scoped>\n",
       "    .dataframe tbody tr th:only-of-type {\n",
       "        vertical-align: middle;\n",
       "    }\n",
       "\n",
       "    .dataframe tbody tr th {\n",
       "        vertical-align: top;\n",
       "    }\n",
       "\n",
       "    .dataframe thead th {\n",
       "        text-align: right;\n",
       "    }\n",
       "</style>\n",
       "<table border=\"1\" class=\"dataframe\">\n",
       "  <thead>\n",
       "    <tr style=\"text-align: right;\">\n",
       "      <th></th>\n",
       "      <th>Fiscal Year</th>\n",
       "      <th>LEA Name</th>\n",
       "      <th>LEA Entity ID</th>\n",
       "      <th>School Name</th>\n",
       "      <th>School Entity ID</th>\n",
       "      <th>Asian</th>\n",
       "      <th>American Indian/Alaskan Native</th>\n",
       "      <th>Black/African American</th>\n",
       "      <th>Hispanic/Latino</th>\n",
       "      <th>White</th>\n",
       "      <th>Native Hawaiian/Pacific Islander</th>\n",
       "      <th>Multiple Races</th>\n",
       "      <th>Total</th>\n",
       "    </tr>\n",
       "  </thead>\n",
       "  <tbody>\n",
       "    <tr>\n",
       "      <th>0</th>\n",
       "      <td>2022</td>\n",
       "      <td>Arizona</td>\n",
       "      <td>NaN</td>\n",
       "      <td>NaN</td>\n",
       "      <td>NaN</td>\n",
       "      <td>34146.0</td>\n",
       "      <td>47580.0</td>\n",
       "      <td>64183.0</td>\n",
       "      <td>532761.0</td>\n",
       "      <td>405759.0</td>\n",
       "      <td>4224.0</td>\n",
       "      <td>44346.0</td>\n",
       "      <td>NaN</td>\n",
       "    </tr>\n",
       "    <tr>\n",
       "      <th>1</th>\n",
       "      <td>2022</td>\n",
       "      <td>St Johns Unified District</td>\n",
       "      <td>4153.0</td>\n",
       "      <td>Coronado Elementary School</td>\n",
       "      <td>4517.0</td>\n",
       "      <td>NaN</td>\n",
       "      <td>17.0</td>\n",
       "      <td>NaN</td>\n",
       "      <td>75.0</td>\n",
       "      <td>172.0</td>\n",
       "      <td>NaN</td>\n",
       "      <td>NaN</td>\n",
       "      <td>270.0</td>\n",
       "    </tr>\n",
       "    <tr>\n",
       "      <th>2</th>\n",
       "      <td>2022</td>\n",
       "      <td>St Johns Unified District</td>\n",
       "      <td>4153.0</td>\n",
       "      <td>St Johns Middle School</td>\n",
       "      <td>4710.0</td>\n",
       "      <td>NaN</td>\n",
       "      <td>29.0</td>\n",
       "      <td>NaN</td>\n",
       "      <td>92.0</td>\n",
       "      <td>216.0</td>\n",
       "      <td>NaN</td>\n",
       "      <td>NaN</td>\n",
       "      <td>345.0</td>\n",
       "    </tr>\n",
       "    <tr>\n",
       "      <th>3</th>\n",
       "      <td>2022</td>\n",
       "      <td>St Johns Unified District</td>\n",
       "      <td>4153.0</td>\n",
       "      <td>St Johns High School</td>\n",
       "      <td>4711.0</td>\n",
       "      <td>NaN</td>\n",
       "      <td>31.0</td>\n",
       "      <td>NaN</td>\n",
       "      <td>75.0</td>\n",
       "      <td>185.0</td>\n",
       "      <td>NaN</td>\n",
       "      <td>NaN</td>\n",
       "      <td>302.0</td>\n",
       "    </tr>\n",
       "    <tr>\n",
       "      <th>4</th>\n",
       "      <td>2022</td>\n",
       "      <td>St Johns Unified District</td>\n",
       "      <td>4153.0</td>\n",
       "      <td>St. Johns Learning Center</td>\n",
       "      <td>89607.0</td>\n",
       "      <td>NaN</td>\n",
       "      <td>NaN</td>\n",
       "      <td>NaN</td>\n",
       "      <td>NaN</td>\n",
       "      <td>NaN</td>\n",
       "      <td>NaN</td>\n",
       "      <td>NaN</td>\n",
       "      <td>13.0</td>\n",
       "    </tr>\n",
       "  </tbody>\n",
       "</table>\n",
       "</div>"
      ],
      "text/plain": [
       "   Fiscal Year                   LEA Name  LEA Entity ID  \\\n",
       "0         2022                    Arizona            NaN   \n",
       "1         2022  St Johns Unified District         4153.0   \n",
       "2         2022  St Johns Unified District         4153.0   \n",
       "3         2022  St Johns Unified District         4153.0   \n",
       "4         2022  St Johns Unified District         4153.0   \n",
       "\n",
       "                  School Name  School Entity ID    Asian  \\\n",
       "0                         NaN               NaN  34146.0   \n",
       "1  Coronado Elementary School            4517.0      NaN   \n",
       "2      St Johns Middle School            4710.0      NaN   \n",
       "3        St Johns High School            4711.0      NaN   \n",
       "4   St. Johns Learning Center           89607.0      NaN   \n",
       "\n",
       "   American Indian/Alaskan Native  Black/African American  Hispanic/Latino  \\\n",
       "0                         47580.0                 64183.0         532761.0   \n",
       "1                            17.0                     NaN             75.0   \n",
       "2                            29.0                     NaN             92.0   \n",
       "3                            31.0                     NaN             75.0   \n",
       "4                             NaN                     NaN              NaN   \n",
       "\n",
       "      White  Native Hawaiian/Pacific Islander  Multiple Races  Total  \n",
       "0  405759.0                            4224.0         44346.0    NaN  \n",
       "1     172.0                               NaN             NaN  270.0  \n",
       "2     216.0                               NaN             NaN  345.0  \n",
       "3     185.0                               NaN             NaN  302.0  \n",
       "4       NaN                               NaN             NaN   13.0  "
      ]
     },
     "execution_count": 71,
     "metadata": {},
     "output_type": "execute_result"
    }
   ],
   "source": [
    "# file name\n",
    "file_name = \"schools_by_ethnicity.csv\"\n",
    "\n",
    "# Read in file data\n",
    "# the CSV file indicates missing data with the \"*\" in the column\n",
    "# use na_values to filter out and add null\n",
    "sch = pd.read_csv(file_name, na_values=[\"*\"])\n",
    "\n",
    "# Show first five rows of data\n",
    "sch.head()"
   ]
  },
  {
   "cell_type": "markdown",
   "id": "7cd230b7",
   "metadata": {},
   "source": [
    "#### Check and Change Column Names"
   ]
  },
  {
   "cell_type": "code",
   "execution_count": 72,
   "id": "32313822",
   "metadata": {},
   "outputs": [
    {
     "name": "stdout",
     "output_type": "stream",
     "text": [
      "FiscalYear\n",
      "DistrictName\n",
      "DistrictEntityID\n",
      "SchoolName\n",
      "SchoolEntityID\n",
      "Asian\n",
      "NativeAmerican\n",
      "Black\n",
      "Hispanic\n",
      "White\n",
      "PacificIslander\n",
      "Multiracial\n",
      "Total\n"
     ]
    }
   ],
   "source": [
    "for key, value in ethnicity_column_dict.items():\n",
    "    for name in sch.columns:\n",
    "        if name == key:\n",
    "            print(value[0])"
   ]
  },
  {
   "cell_type": "code",
   "execution_count": 73,
   "id": "11b17d5b",
   "metadata": {},
   "outputs": [
    {
     "data": {
      "text/html": [
       "<div>\n",
       "<style scoped>\n",
       "    .dataframe tbody tr th:only-of-type {\n",
       "        vertical-align: middle;\n",
       "    }\n",
       "\n",
       "    .dataframe tbody tr th {\n",
       "        vertical-align: top;\n",
       "    }\n",
       "\n",
       "    .dataframe thead th {\n",
       "        text-align: right;\n",
       "    }\n",
       "</style>\n",
       "<table border=\"1\" class=\"dataframe\">\n",
       "  <thead>\n",
       "    <tr style=\"text-align: right;\">\n",
       "      <th></th>\n",
       "      <th>FiscalYear</th>\n",
       "      <th>DistrictName</th>\n",
       "      <th>DistrictEntityID</th>\n",
       "      <th>SchoolName</th>\n",
       "      <th>SchoolEntityID</th>\n",
       "      <th>Asian</th>\n",
       "      <th>NativeAmerican</th>\n",
       "      <th>Black</th>\n",
       "      <th>Hispanic</th>\n",
       "      <th>White</th>\n",
       "      <th>PacificIslander</th>\n",
       "      <th>Multiracial</th>\n",
       "      <th>Total</th>\n",
       "    </tr>\n",
       "  </thead>\n",
       "  <tbody>\n",
       "    <tr>\n",
       "      <th>0</th>\n",
       "      <td>2022</td>\n",
       "      <td>Arizona</td>\n",
       "      <td>NaN</td>\n",
       "      <td>NaN</td>\n",
       "      <td>NaN</td>\n",
       "      <td>34146.0</td>\n",
       "      <td>47580.0</td>\n",
       "      <td>64183.0</td>\n",
       "      <td>532761.0</td>\n",
       "      <td>405759.0</td>\n",
       "      <td>4224.0</td>\n",
       "      <td>44346.0</td>\n",
       "      <td>NaN</td>\n",
       "    </tr>\n",
       "    <tr>\n",
       "      <th>1</th>\n",
       "      <td>2022</td>\n",
       "      <td>St Johns Unified District</td>\n",
       "      <td>4153.0</td>\n",
       "      <td>Coronado Elementary School</td>\n",
       "      <td>4517.0</td>\n",
       "      <td>NaN</td>\n",
       "      <td>17.0</td>\n",
       "      <td>NaN</td>\n",
       "      <td>75.0</td>\n",
       "      <td>172.0</td>\n",
       "      <td>NaN</td>\n",
       "      <td>NaN</td>\n",
       "      <td>270.0</td>\n",
       "    </tr>\n",
       "    <tr>\n",
       "      <th>2</th>\n",
       "      <td>2022</td>\n",
       "      <td>St Johns Unified District</td>\n",
       "      <td>4153.0</td>\n",
       "      <td>St Johns Middle School</td>\n",
       "      <td>4710.0</td>\n",
       "      <td>NaN</td>\n",
       "      <td>29.0</td>\n",
       "      <td>NaN</td>\n",
       "      <td>92.0</td>\n",
       "      <td>216.0</td>\n",
       "      <td>NaN</td>\n",
       "      <td>NaN</td>\n",
       "      <td>345.0</td>\n",
       "    </tr>\n",
       "    <tr>\n",
       "      <th>3</th>\n",
       "      <td>2022</td>\n",
       "      <td>St Johns Unified District</td>\n",
       "      <td>4153.0</td>\n",
       "      <td>St Johns High School</td>\n",
       "      <td>4711.0</td>\n",
       "      <td>NaN</td>\n",
       "      <td>31.0</td>\n",
       "      <td>NaN</td>\n",
       "      <td>75.0</td>\n",
       "      <td>185.0</td>\n",
       "      <td>NaN</td>\n",
       "      <td>NaN</td>\n",
       "      <td>302.0</td>\n",
       "    </tr>\n",
       "    <tr>\n",
       "      <th>4</th>\n",
       "      <td>2022</td>\n",
       "      <td>St Johns Unified District</td>\n",
       "      <td>4153.0</td>\n",
       "      <td>St. Johns Learning Center</td>\n",
       "      <td>89607.0</td>\n",
       "      <td>NaN</td>\n",
       "      <td>NaN</td>\n",
       "      <td>NaN</td>\n",
       "      <td>NaN</td>\n",
       "      <td>NaN</td>\n",
       "      <td>NaN</td>\n",
       "      <td>NaN</td>\n",
       "      <td>13.0</td>\n",
       "    </tr>\n",
       "    <tr>\n",
       "      <th>...</th>\n",
       "      <td>...</td>\n",
       "      <td>...</td>\n",
       "      <td>...</td>\n",
       "      <td>...</td>\n",
       "      <td>...</td>\n",
       "      <td>...</td>\n",
       "      <td>...</td>\n",
       "      <td>...</td>\n",
       "      <td>...</td>\n",
       "      <td>...</td>\n",
       "      <td>...</td>\n",
       "      <td>...</td>\n",
       "      <td>...</td>\n",
       "    </tr>\n",
       "    <tr>\n",
       "      <th>2414</th>\n",
       "      <td>2022</td>\n",
       "      <td>Liberty Leadership Academy</td>\n",
       "      <td>1001520.0</td>\n",
       "      <td>Liberty Leadership Academy</td>\n",
       "      <td>1001523.0</td>\n",
       "      <td>NaN</td>\n",
       "      <td>NaN</td>\n",
       "      <td>NaN</td>\n",
       "      <td>NaN</td>\n",
       "      <td>28.0</td>\n",
       "      <td>NaN</td>\n",
       "      <td>NaN</td>\n",
       "      <td>41.0</td>\n",
       "    </tr>\n",
       "    <tr>\n",
       "      <th>2415</th>\n",
       "      <td>2022</td>\n",
       "      <td>Co-Learn Club, Inc.</td>\n",
       "      <td>1001669.0</td>\n",
       "      <td>Colearn Academy Arizona</td>\n",
       "      <td>1001672.0</td>\n",
       "      <td>NaN</td>\n",
       "      <td>NaN</td>\n",
       "      <td>NaN</td>\n",
       "      <td>31.0</td>\n",
       "      <td>118.0</td>\n",
       "      <td>NaN</td>\n",
       "      <td>14.0</td>\n",
       "      <td>165.0</td>\n",
       "    </tr>\n",
       "    <tr>\n",
       "      <th>2416</th>\n",
       "      <td>2022</td>\n",
       "      <td>Copper State Academy</td>\n",
       "      <td>1001671.0</td>\n",
       "      <td>Copper State Academy</td>\n",
       "      <td>1001686.0</td>\n",
       "      <td>NaN</td>\n",
       "      <td>NaN</td>\n",
       "      <td>NaN</td>\n",
       "      <td>NaN</td>\n",
       "      <td>NaN</td>\n",
       "      <td>NaN</td>\n",
       "      <td>NaN</td>\n",
       "      <td>14.0</td>\n",
       "    </tr>\n",
       "    <tr>\n",
       "      <th>2417</th>\n",
       "      <td>2022</td>\n",
       "      <td>Cochise County Accommodation School District</td>\n",
       "      <td>1001687.0</td>\n",
       "      <td>New Crossroads Academy</td>\n",
       "      <td>1001688.0</td>\n",
       "      <td>NaN</td>\n",
       "      <td>24.0</td>\n",
       "      <td>14.0</td>\n",
       "      <td>148.0</td>\n",
       "      <td>99.0</td>\n",
       "      <td>NaN</td>\n",
       "      <td>NaN</td>\n",
       "      <td>298.0</td>\n",
       "    </tr>\n",
       "    <tr>\n",
       "      <th>2418</th>\n",
       "      <td>2022</td>\n",
       "      <td>Online School of Arizona</td>\n",
       "      <td>1001719.0</td>\n",
       "      <td>Online School of Arizona</td>\n",
       "      <td>1001732.0</td>\n",
       "      <td>NaN</td>\n",
       "      <td>NaN</td>\n",
       "      <td>NaN</td>\n",
       "      <td>29.0</td>\n",
       "      <td>30.0</td>\n",
       "      <td>NaN</td>\n",
       "      <td>NaN</td>\n",
       "      <td>73.0</td>\n",
       "    </tr>\n",
       "  </tbody>\n",
       "</table>\n",
       "<p>2419 rows × 13 columns</p>\n",
       "</div>"
      ],
      "text/plain": [
       "      FiscalYear                                  DistrictName  \\\n",
       "0           2022                                       Arizona   \n",
       "1           2022                     St Johns Unified District   \n",
       "2           2022                     St Johns Unified District   \n",
       "3           2022                     St Johns Unified District   \n",
       "4           2022                     St Johns Unified District   \n",
       "...          ...                                           ...   \n",
       "2414        2022                    Liberty Leadership Academy   \n",
       "2415        2022                           Co-Learn Club, Inc.   \n",
       "2416        2022                          Copper State Academy   \n",
       "2417        2022  Cochise County Accommodation School District   \n",
       "2418        2022                      Online School of Arizona   \n",
       "\n",
       "      DistrictEntityID                  SchoolName  SchoolEntityID    Asian  \\\n",
       "0                  NaN                         NaN             NaN  34146.0   \n",
       "1               4153.0  Coronado Elementary School          4517.0      NaN   \n",
       "2               4153.0      St Johns Middle School          4710.0      NaN   \n",
       "3               4153.0        St Johns High School          4711.0      NaN   \n",
       "4               4153.0   St. Johns Learning Center         89607.0      NaN   \n",
       "...                ...                         ...             ...      ...   \n",
       "2414         1001520.0  Liberty Leadership Academy       1001523.0      NaN   \n",
       "2415         1001669.0     Colearn Academy Arizona       1001672.0      NaN   \n",
       "2416         1001671.0        Copper State Academy       1001686.0      NaN   \n",
       "2417         1001687.0      New Crossroads Academy       1001688.0      NaN   \n",
       "2418         1001719.0    Online School of Arizona       1001732.0      NaN   \n",
       "\n",
       "      NativeAmerican    Black  Hispanic     White  PacificIslander  \\\n",
       "0            47580.0  64183.0  532761.0  405759.0           4224.0   \n",
       "1               17.0      NaN      75.0     172.0              NaN   \n",
       "2               29.0      NaN      92.0     216.0              NaN   \n",
       "3               31.0      NaN      75.0     185.0              NaN   \n",
       "4                NaN      NaN       NaN       NaN              NaN   \n",
       "...              ...      ...       ...       ...              ...   \n",
       "2414             NaN      NaN       NaN      28.0              NaN   \n",
       "2415             NaN      NaN      31.0     118.0              NaN   \n",
       "2416             NaN      NaN       NaN       NaN              NaN   \n",
       "2417            24.0     14.0     148.0      99.0              NaN   \n",
       "2418             NaN      NaN      29.0      30.0              NaN   \n",
       "\n",
       "      Multiracial  Total  \n",
       "0         44346.0    NaN  \n",
       "1             NaN  270.0  \n",
       "2             NaN  345.0  \n",
       "3             NaN  302.0  \n",
       "4             NaN   13.0  \n",
       "...           ...    ...  \n",
       "2414          NaN   41.0  \n",
       "2415         14.0  165.0  \n",
       "2416          NaN   14.0  \n",
       "2417          NaN  298.0  \n",
       "2418          NaN   73.0  \n",
       "\n",
       "[2419 rows x 13 columns]"
      ]
     },
     "execution_count": 73,
     "metadata": {},
     "output_type": "execute_result"
    }
   ],
   "source": [
    "new = change_column_names(sch, ethnicity_column_dict)\n",
    "\n",
    "new"
   ]
  },
  {
   "cell_type": "code",
   "execution_count": 74,
   "id": "e1d8b304",
   "metadata": {},
   "outputs": [
    {
     "name": "stdout",
     "output_type": "stream",
     "text": [
      "{'Fiscal Year': 'FiscalYear', 'LEA Name': 'DistrictName', 'LEA Entity ID': 'DistrictEntityID', 'School Name': 'SchoolName', 'School Entity ID': 'SchoolEntityID', 'Asian': 'Asian', 'American Indian/Alaskan Native': 'NativeAmerican', 'Black/African American': 'Black', 'Hispanic/Latino': 'Hispanic', 'White': 'White', 'Native Hawaiian/Pacific Islander': 'PacificIslander', 'Multiple Races': 'Multiracial', 'Total': 'Total'}\n"
     ]
    }
   ],
   "source": [
    "names_dict = {}\n",
    "for key, value in ethnicity_column_dict.items():\n",
    "    names_dict[key] = value[NAME_INDEX]\n",
    "\n",
    "print(names_dict)\n"
   ]
  },
  {
   "cell_type": "code",
   "execution_count": 75,
   "id": "28b6e9dc",
   "metadata": {},
   "outputs": [
    {
     "name": "stdout",
     "output_type": "stream",
     "text": [
      "['FiscalYear', 'DistrictName', 'DistrictEntityID', 'SchoolName', 'SchoolEntityID', 'Asian', 'NativeAmerican', 'Black', 'Hispanic', 'White', 'PacificIslander', 'Multiracial', 'Total'] \n",
      "\n",
      "['FiscalYear', 'DistrictName', 'DistrictEntityID', 'SchoolName', 'SchoolEntityID', 'Asian', 'NativeAmerican', 'Black', 'Hispanic', 'White', 'PacificIslander', 'Multiracial', 'Total'] \n",
      "\n"
     ]
    }
   ],
   "source": [
    "# Print column names to check\n",
    "print(list(sch.columns),\"\\n\")\n",
    "\n",
    "# define new dataframe for conviance\n",
    "nwsch = sch\n",
    "# change column headers based on dictonary values\n",
    "# Rename column names\n",
    "for key, value in names_dict.items():\n",
    "    for name in nwsch.columns:\n",
    "        if name == key:\n",
    "            nwsch.rename(columns={name : value}, inplace=True)\n",
    "# Print column names to check\n",
    "print(list(nwsch.columns),\"\\n\")"
   ]
  },
  {
   "cell_type": "markdown",
   "id": "f7acc9c6",
   "metadata": {},
   "source": [
    "#### Check Column Data Type"
   ]
  },
  {
   "cell_type": "code",
   "execution_count": 76,
   "id": "359b3854",
   "metadata": {},
   "outputs": [
    {
     "data": {
      "text/plain": [
       "array([<class 'float'>, <class 'str'>], dtype=object)"
      ]
     },
     "execution_count": 76,
     "metadata": {},
     "output_type": "execute_result"
    }
   ],
   "source": [
    "df = nwsch\n",
    "df[\"SchoolName\"].map(type).unique()"
   ]
  },
  {
   "cell_type": "code",
   "execution_count": 77,
   "id": "9d1ad67f",
   "metadata": {},
   "outputs": [
    {
     "ename": "AttributeError",
     "evalue": "'int' object has no attribute 'applymap'",
     "output_type": "error",
     "traceback": [
      "\u001b[0;31m---------------------------------------------------------------------------\u001b[0m",
      "\u001b[0;31mAttributeError\u001b[0m                            Traceback (most recent call last)",
      "\u001b[0;32m/var/folders/9m/qm6tjx5x285ccj3txdwlssd00000gn/T/ipykernel_63771/3508291087.py\u001b[0m in \u001b[0;36m<module>\u001b[0;34m\u001b[0m\n\u001b[1;32m      2\u001b[0m \u001b[0;32mfor\u001b[0m \u001b[0mcolumn\u001b[0m \u001b[0;32min\u001b[0m \u001b[0mdf\u001b[0m\u001b[0;34m.\u001b[0m\u001b[0mcolumns\u001b[0m\u001b[0;34m:\u001b[0m\u001b[0;34m\u001b[0m\u001b[0;34m\u001b[0m\u001b[0m\n\u001b[1;32m      3\u001b[0m     \u001b[0;32mfor\u001b[0m  \u001b[0ma\u001b[0m \u001b[0;32min\u001b[0m \u001b[0mdf\u001b[0m\u001b[0;34m[\u001b[0m\u001b[0mcolumn\u001b[0m\u001b[0;34m]\u001b[0m\u001b[0;34m:\u001b[0m\u001b[0;34m\u001b[0m\u001b[0;34m\u001b[0m\u001b[0m\n\u001b[0;32m----> 4\u001b[0;31m         \u001b[0ma\u001b[0m\u001b[0;34m.\u001b[0m\u001b[0mapplymap\u001b[0m\u001b[0;34m(\u001b[0m\u001b[0mtype\u001b[0m\u001b[0;34m)\u001b[0m\u001b[0;34m.\u001b[0m\u001b[0mapply\u001b[0m\u001b[0;34m(\u001b[0m\u001b[0mdf\u001b[0m\u001b[0;34m.\u001b[0m\u001b[0mvalue_counts\u001b[0m\u001b[0;34m)\u001b[0m\u001b[0;34m.\u001b[0m\u001b[0mfillna\u001b[0m\u001b[0;34m(\u001b[0m\u001b[0;36m0\u001b[0m\u001b[0;34m)\u001b[0m\u001b[0;34m\u001b[0m\u001b[0;34m\u001b[0m\u001b[0m\n\u001b[0m",
      "\u001b[0;31mAttributeError\u001b[0m: 'int' object has no attribute 'applymap'"
     ]
    }
   ],
   "source": [
    "df = nwsch\n",
    "for column in df.columns:\n",
    "    for  a in df[column]:\n",
    "        a.applymap(type).apply(df.value_counts).fillna(0)"
   ]
  },
  {
   "cell_type": "code",
   "execution_count": 78,
   "id": "cc5aa48d",
   "metadata": {},
   "outputs": [
    {
     "name": "stdout",
     "output_type": "stream",
     "text": [
      "Unique Column Data Types\n",
      "Column Name       Column Overall Type   Column Unique Types\n",
      "FiscalYear        int64     [<class 'int'>]\n",
      "DistrictName      object     [<class 'str'>]\n",
      "DistrictEntityID  float64     [<class 'float'>]\n",
      "SchoolName        object     [<class 'float'> <class 'str'>]\n",
      "SchoolEntityID    float64     [<class 'float'>]\n",
      "Asian             float64     [<class 'float'>]\n",
      "NativeAmerican    float64     [<class 'float'>]\n",
      "Black             float64     [<class 'float'>]\n",
      "Hispanic          float64     [<class 'float'>]\n",
      "White             float64     [<class 'float'>]\n",
      "PacificIslander   float64     [<class 'float'>]\n",
      "Multiracial       float64     [<class 'float'>]\n",
      "Total             float64     [<class 'float'>]\n"
     ]
    }
   ],
   "source": [
    "# Test column data for different data types\n",
    "print(\"Unique Column Data Types\")\n",
    "print(f'{\"Column Name\":<18}{\"Column Overall Type\":<22}{\"Column Unique Types\"}')\n",
    "for column in nwsch:\n",
    "    c = nwsch[column].map(type).unique()\n",
    "    print(f\"{column:<18}{nwsch[column].dtypes}{'':<5}{c}\")"
   ]
  },
  {
   "cell_type": "code",
   "execution_count": null,
   "id": "bd26ca73",
   "metadata": {},
   "outputs": [
    {
     "name": "stdout",
     "output_type": "stream",
     "text": [
      "DistrictName object\n",
      "SchoolName object\n"
     ]
    }
   ],
   "source": [
    "# nwsch.dtypes\n",
    "\n",
    "# type(nwsch)\n",
    "\n",
    "# for column in nwsch:\n",
    "#     st = nwsch[column].dtypes\n",
    "#     print(str(st))\n",
    "\n",
    "for name in nwsch:\n",
    "    if nwsch[name].dtypes == \"object\":\n",
    "        print(name, nwsch[name].dtypes)"
   ]
  },
  {
   "cell_type": "code",
   "execution_count": null,
   "id": "b59560c5",
   "metadata": {},
   "outputs": [],
   "source": [
    "df = nwsch\n",
    "type_dict = {'FiscalYear': 'int64', 'DistrictName': 'object', 'DistrictEntityID': 'float64', 'SchoolName': 'object', 'SchoolEntityID': 'float64', 'Asian': 'float64',\n",
    "             'NativeAmerican': 'float64', 'Black': 'float64', 'Hispanic': 'float64', 'White': 'float64', 'PacificIslander': 'float64', 'Multiracial': 'float64', 'Total': 'float64'}\n",
    "\n",
    "for key, value in type_dict.items():\n",
    "    for name in df.columns:\n",
    "        if name == key and df[name].dtypes != value:\n",
    "            # if df[name].dtypes == value:\n",
    "            print(name, value)\n"
   ]
  },
  {
   "cell_type": "code",
   "execution_count": 89,
   "id": "f29e8223",
   "metadata": {},
   "outputs": [
    {
     "name": "stdout",
     "output_type": "stream",
     "text": [
      "Empty DataFrame\n",
      "Columns: [FiscalYear, DistrictName, DistrictEntityID, SchoolName, SchoolEntityID, Asian, NativeAmerican, Black, Hispanic, White, PacificIslander, Multiracial, Total]\n",
      "Index: []\n",
      "Empty DataFrame\n",
      "Columns: [FiscalYear, DistrictName, DistrictEntityID, SchoolName, SchoolEntityID, Asian, NativeAmerican, Black, Hispanic, White, PacificIslander, Multiracial, Total]\n",
      "Index: []\n",
      "   FiscalYear DistrictName  DistrictEntityID SchoolName  SchoolEntityID  \\\n",
      "0        2022      Arizona               NaN        NaN             NaN   \n",
      "\n",
      "     Asian  NativeAmerican    Black  Hispanic     White  PacificIslander  \\\n",
      "0  34146.0         47580.0  64183.0  532761.0  405759.0           4224.0   \n",
      "\n",
      "   Multiracial  Total  \n",
      "0      44346.0    NaN  \n"
     ]
    }
   ],
   "source": [
    "df= nwsch\n",
    "for column in df:\n",
    "    types = df[column].dtypes\n",
    "    if types != \"float\" and type != 'int':\n",
    "        nu = df[df[column].isnull()]\n",
    "        print(nu)"
   ]
  },
  {
   "cell_type": "code",
   "execution_count": null,
   "id": "ab2135c1",
   "metadata": {},
   "outputs": [
    {
     "data": {
      "text/html": [
       "<div>\n",
       "<style scoped>\n",
       "    .dataframe tbody tr th:only-of-type {\n",
       "        vertical-align: middle;\n",
       "    }\n",
       "\n",
       "    .dataframe tbody tr th {\n",
       "        vertical-align: top;\n",
       "    }\n",
       "\n",
       "    .dataframe thead th {\n",
       "        text-align: right;\n",
       "    }\n",
       "</style>\n",
       "<table border=\"1\" class=\"dataframe\">\n",
       "  <thead>\n",
       "    <tr style=\"text-align: right;\">\n",
       "      <th></th>\n",
       "      <th>FiscalYear</th>\n",
       "      <th>DistrictName</th>\n",
       "      <th>DistrictEntityID</th>\n",
       "      <th>SchoolName</th>\n",
       "      <th>SchoolEntityID</th>\n",
       "      <th>Asian</th>\n",
       "      <th>NativeAmerican</th>\n",
       "      <th>Black</th>\n",
       "      <th>Hispanic</th>\n",
       "      <th>White</th>\n",
       "      <th>PacificIslander</th>\n",
       "      <th>Multiracial</th>\n",
       "      <th>Total</th>\n",
       "    </tr>\n",
       "  </thead>\n",
       "  <tbody>\n",
       "    <tr>\n",
       "      <th>0</th>\n",
       "      <td>2022</td>\n",
       "      <td>Arizona</td>\n",
       "      <td>NaN</td>\n",
       "      <td>NaN</td>\n",
       "      <td>NaN</td>\n",
       "      <td>34146.0</td>\n",
       "      <td>47580.0</td>\n",
       "      <td>64183.0</td>\n",
       "      <td>532761.0</td>\n",
       "      <td>405759.0</td>\n",
       "      <td>4224.0</td>\n",
       "      <td>44346.0</td>\n",
       "      <td>NaN</td>\n",
       "    </tr>\n",
       "  </tbody>\n",
       "</table>\n",
       "</div>"
      ],
      "text/plain": [
       "   FiscalYear DistrictName  DistrictEntityID SchoolName  SchoolEntityID  \\\n",
       "0        2022      Arizona               NaN        NaN             NaN   \n",
       "\n",
       "     Asian  NativeAmerican    Black  Hispanic     White  PacificIslander  \\\n",
       "0  34146.0         47580.0  64183.0  532761.0  405759.0           4224.0   \n",
       "\n",
       "   Multiracial  Total  \n",
       "0      44346.0    NaN  "
      ]
     },
     "execution_count": 21,
     "metadata": {},
     "output_type": "execute_result"
    }
   ],
   "source": [
    "# Find the row in SchoolName column with null values\n",
    "na = nwsch[nwsch['SchoolName'].isnull()]\n",
    "na"
   ]
  },
  {
   "cell_type": "code",
   "execution_count": null,
   "id": "62a84243",
   "metadata": {},
   "outputs": [
    {
     "data": {
      "text/html": [
       "<div>\n",
       "<style scoped>\n",
       "    .dataframe tbody tr th:only-of-type {\n",
       "        vertical-align: middle;\n",
       "    }\n",
       "\n",
       "    .dataframe tbody tr th {\n",
       "        vertical-align: top;\n",
       "    }\n",
       "\n",
       "    .dataframe thead th {\n",
       "        text-align: right;\n",
       "    }\n",
       "</style>\n",
       "<table border=\"1\" class=\"dataframe\">\n",
       "  <thead>\n",
       "    <tr style=\"text-align: right;\">\n",
       "      <th></th>\n",
       "      <th>FiscalYear</th>\n",
       "      <th>DistrictName</th>\n",
       "      <th>DistrictEntityID</th>\n",
       "      <th>SchoolName</th>\n",
       "      <th>SchoolEntityID</th>\n",
       "      <th>Asian</th>\n",
       "      <th>NativeAmerican</th>\n",
       "      <th>Black</th>\n",
       "      <th>Hispanic</th>\n",
       "      <th>White</th>\n",
       "      <th>PacificIslander</th>\n",
       "      <th>Multiracial</th>\n",
       "      <th>Total</th>\n",
       "    </tr>\n",
       "  </thead>\n",
       "  <tbody>\n",
       "    <tr>\n",
       "      <th>0</th>\n",
       "      <td>2022</td>\n",
       "      <td>Arizona</td>\n",
       "      <td>NaN</td>\n",
       "      <td></td>\n",
       "      <td>NaN</td>\n",
       "      <td>34146.0</td>\n",
       "      <td>47580.0</td>\n",
       "      <td>64183.0</td>\n",
       "      <td>532761.0</td>\n",
       "      <td>405759.0</td>\n",
       "      <td>4224.0</td>\n",
       "      <td>44346.0</td>\n",
       "      <td>NaN</td>\n",
       "    </tr>\n",
       "    <tr>\n",
       "      <th>1</th>\n",
       "      <td>2022</td>\n",
       "      <td>St Johns Unified District</td>\n",
       "      <td>4153.0</td>\n",
       "      <td>Coronado Elementary School</td>\n",
       "      <td>4517.0</td>\n",
       "      <td>NaN</td>\n",
       "      <td>17.0</td>\n",
       "      <td>NaN</td>\n",
       "      <td>75.0</td>\n",
       "      <td>172.0</td>\n",
       "      <td>NaN</td>\n",
       "      <td>NaN</td>\n",
       "      <td>270.0</td>\n",
       "    </tr>\n",
       "    <tr>\n",
       "      <th>2</th>\n",
       "      <td>2022</td>\n",
       "      <td>St Johns Unified District</td>\n",
       "      <td>4153.0</td>\n",
       "      <td>St Johns Middle School</td>\n",
       "      <td>4710.0</td>\n",
       "      <td>NaN</td>\n",
       "      <td>29.0</td>\n",
       "      <td>NaN</td>\n",
       "      <td>92.0</td>\n",
       "      <td>216.0</td>\n",
       "      <td>NaN</td>\n",
       "      <td>NaN</td>\n",
       "      <td>345.0</td>\n",
       "    </tr>\n",
       "    <tr>\n",
       "      <th>3</th>\n",
       "      <td>2022</td>\n",
       "      <td>St Johns Unified District</td>\n",
       "      <td>4153.0</td>\n",
       "      <td>St Johns High School</td>\n",
       "      <td>4711.0</td>\n",
       "      <td>NaN</td>\n",
       "      <td>31.0</td>\n",
       "      <td>NaN</td>\n",
       "      <td>75.0</td>\n",
       "      <td>185.0</td>\n",
       "      <td>NaN</td>\n",
       "      <td>NaN</td>\n",
       "      <td>302.0</td>\n",
       "    </tr>\n",
       "    <tr>\n",
       "      <th>4</th>\n",
       "      <td>2022</td>\n",
       "      <td>St Johns Unified District</td>\n",
       "      <td>4153.0</td>\n",
       "      <td>St. Johns Learning Center</td>\n",
       "      <td>89607.0</td>\n",
       "      <td>NaN</td>\n",
       "      <td>NaN</td>\n",
       "      <td>NaN</td>\n",
       "      <td>NaN</td>\n",
       "      <td>NaN</td>\n",
       "      <td>NaN</td>\n",
       "      <td>NaN</td>\n",
       "      <td>13.0</td>\n",
       "    </tr>\n",
       "  </tbody>\n",
       "</table>\n",
       "</div>"
      ],
      "text/plain": [
       "   FiscalYear               DistrictName  DistrictEntityID  \\\n",
       "0        2022                    Arizona               NaN   \n",
       "1        2022  St Johns Unified District            4153.0   \n",
       "2        2022  St Johns Unified District            4153.0   \n",
       "3        2022  St Johns Unified District            4153.0   \n",
       "4        2022  St Johns Unified District            4153.0   \n",
       "\n",
       "                   SchoolName  SchoolEntityID    Asian  NativeAmerican  \\\n",
       "0                                         NaN  34146.0         47580.0   \n",
       "1  Coronado Elementary School          4517.0      NaN            17.0   \n",
       "2      St Johns Middle School          4710.0      NaN            29.0   \n",
       "3        St Johns High School          4711.0      NaN            31.0   \n",
       "4   St. Johns Learning Center         89607.0      NaN             NaN   \n",
       "\n",
       "     Black  Hispanic     White  PacificIslander  Multiracial  Total  \n",
       "0  64183.0  532761.0  405759.0           4224.0      44346.0    NaN  \n",
       "1      NaN      75.0     172.0              NaN          NaN  270.0  \n",
       "2      NaN      92.0     216.0              NaN          NaN  345.0  \n",
       "3      NaN      75.0     185.0              NaN          NaN  302.0  \n",
       "4      NaN       NaN       NaN              NaN          NaN   13.0  "
      ]
     },
     "execution_count": 22,
     "metadata": {},
     "output_type": "execute_result"
    }
   ],
   "source": [
    "nwsch[\"SchoolName\"] = nwsch[\"SchoolName\"].fillna('')\n",
    "nwsch.head()"
   ]
  },
  {
   "cell_type": "markdown",
   "id": "a73b6943",
   "metadata": {},
   "source": [
    "#### Test for the max length of string columns\n",
    "    This insures that they will load into database correctly"
   ]
  },
  {
   "cell_type": "code",
   "execution_count": null,
   "id": "ccdfcc8a",
   "metadata": {},
   "outputs": [
    {
     "name": "stdout",
     "output_type": "stream",
     "text": [
      "Column: DistrictName, object, length = 81\n",
      "Column: SchoolName, object, length = 76\n"
     ]
    }
   ],
   "source": [
    "for name in nwsch.columns:\n",
    "    ob = list(nwsch.select_dtypes(include=['object']).columns)\n",
    "    if name in ob:\n",
    "        length = nwsch[name].map(len).max()\n",
    "#         # print(f\"Column: {name} length = {length}\")\n",
    "        print(f\"Column: {name:>8}, {nwsch[name].dtypes}, length = {length}\")"
   ]
  },
  {
   "cell_type": "code",
   "execution_count": 90,
   "id": "e9119e6f",
   "metadata": {},
   "outputs": [
    {
     "name": "stdout",
     "output_type": "stream",
     "text": [
      "SchoolEntityID # Duplicate Values: 0\n",
      "DistrictEntityID # Duplicate Values: 1694\n"
     ]
    }
   ],
   "source": [
    "# identify duplicate rows\n",
    "# count duplicate values in points column\n",
    "sl = len(nwsch[\"SchoolEntityID\"])-len(nwsch[\"SchoolEntityID\"].drop_duplicates())\n",
    "dl = len(nwsch[\"DistrictEntityID\"])-len(nwsch[\"DistrictEntityID\"].drop_duplicates())\n",
    "print(f\"SchoolEntityID # Duplicate Values: {sl}\")\n",
    "print(f\"DistrictEntityID # Duplicate Values: {dl}\")"
   ]
  },
  {
   "cell_type": "code",
   "execution_count": null,
   "id": "6649e506",
   "metadata": {},
   "outputs": [],
   "source": []
  },
  {
   "cell_type": "code",
   "execution_count": null,
   "id": "87c4957d",
   "metadata": {},
   "outputs": [
    {
     "name": "stdout",
     "output_type": "stream",
     "text": [
      "Min: 11.0\n",
      "Max: 5855.0\n",
      "Mean: 521.0\n"
     ]
    }
   ],
   "source": [
    "max_value = nwsch[\"Total\"].max()\n",
    "min_value = nwsch[\"Total\"].min()\n",
    "mean_value = nwsch[\"Total\"].mean()\n",
    "print(f'Min: {min_value}')\n",
    "print(f'Max: {max_value}')\n",
    "print(f'Mean: {mean_value:.1f}')"
   ]
  },
  {
   "cell_type": "code",
   "execution_count": null,
   "id": "ebba4db5",
   "metadata": {},
   "outputs": [
    {
     "name": "stdout",
     "output_type": "stream",
     "text": [
      "count    2173.000000\n",
      "mean      521.008283\n",
      "std       534.287123\n",
      "min        11.000000\n",
      "25%       178.000000\n",
      "50%       429.000000\n",
      "75%       653.000000\n",
      "max      5855.000000\n",
      "Name: Total, dtype: float64\n"
     ]
    }
   ],
   "source": [
    "des = nwsch[\"Total\"].describe()\n",
    "print(f'{des}')"
   ]
  },
  {
   "cell_type": "code",
   "execution_count": null,
   "id": "a1960129",
   "metadata": {},
   "outputs": [
    {
     "data": {
      "text/plain": [
       "<AxesSubplot:ylabel='Frequency'>"
      ]
     },
     "execution_count": 27,
     "metadata": {},
     "output_type": "execute_result"
    },
    {
     "data": {
      "image/png": "[encoded data removed]",
      "text/plain": [
       "<Figure size 1440x720 with 1 Axes>"
      ]
     },
     "metadata": {
      "needs_background": "light"
     },
     "output_type": "display_data"
    }
   ],
   "source": [
    "nwsch[\"Total\"].plot(kind = 'hist', bins=50, figsize=(20, 10))\n",
    "\n",
    "\n",
    "\n",
    "# plt.hist(df['Total'], bins=500)\n",
    "# plt.show()\n",
    "\n",
    "# df.hist(grid=False, bins=range(0,55,5))\n",
    "# plt.xlabel('Age of Players')\n",
    "# plt.ylabel('# of Players')\n",
    "# plt.title('Age Distribution')"
   ]
  },
  {
   "cell_type": "code",
   "execution_count": null,
   "id": "5bd685d6",
   "metadata": {},
   "outputs": [
    {
     "data": {
      "text/plain": [
       "<AxesSubplot:xlabel='SchoolEntityID'>"
      ]
     },
     "execution_count": 28,
     "metadata": {},
     "output_type": "execute_result"
    },
    {
     "data": {
      "image/png": "[encoded data removed]",
      "text/plain": [
       "<Figure size 1440x720 with 1 Axes>"
      ]
     },
     "metadata": {
      "needs_background": "light"
     },
     "output_type": "display_data"
    }
   ],
   "source": [
    "\n",
    "\n",
    "nwsch.plot(x=\"SchoolEntityID\", y=\"Total\", kind=\"bar\", figsize=(20, 10))\n",
    "\n",
    "# Turn off tick labels\n",
    "# ax.set_yticklabels([])\n",
    "# ax.set_xticklabels([])\n",
    "\n",
    "\n",
    "\n",
    "# ax1 = plt.axes()\n",
    "# x_axis = ax1.xaxis\n",
    "# x_axis.set_label_text('foo')\n",
    "# x_axis.label.set_visible(False)"
   ]
  },
  {
   "cell_type": "code",
   "execution_count": null,
   "id": "a44634ab",
   "metadata": {},
   "outputs": [],
   "source": []
  }
 ],
 "metadata": {
  "kernelspec": {
   "display_name": "Python 3 (ipykernel)",
   "language": "python",
   "name": "python3"
  },
  "language_info": {
   "codemirror_mode": {
    "name": "ipython",
    "version": 3
   },
   "file_extension": ".py",
   "mimetype": "text/x-python",
   "name": "python",
   "nbconvert_exporter": "python",
   "pygments_lexer": "ipython3",
   "version": "3.10.7"
  },
  "vscode": {
   "interpreter": {
    "hash": "aee8b7b246df8f9039afb4144a1f6fd8d2ca17a180786b69acc140d282b71a49"
   }
  }
 },
 "nbformat": 4,
 "nbformat_minor": 5
}
